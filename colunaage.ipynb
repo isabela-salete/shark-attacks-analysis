{
 "cells": [
  {
   "cell_type": "code",
   "execution_count": 30,
   "metadata": {},
   "outputs": [],
   "source": [
    "import pandas as pd\n",
    "import numpy as np"
   ]
  },
  {
   "cell_type": "code",
   "execution_count": 31,
   "metadata": {},
   "outputs": [
    {
     "data": {
      "text/html": [
       "<div>\n",
       "<style scoped>\n",
       "    .dataframe tbody tr th:only-of-type {\n",
       "        vertical-align: middle;\n",
       "    }\n",
       "\n",
       "    .dataframe tbody tr th {\n",
       "        vertical-align: top;\n",
       "    }\n",
       "\n",
       "    .dataframe thead th {\n",
       "        text-align: right;\n",
       "    }\n",
       "</style>\n",
       "<table border=\"1\" class=\"dataframe\">\n",
       "  <thead>\n",
       "    <tr style=\"text-align: right;\">\n",
       "      <th></th>\n",
       "      <th>Case Number</th>\n",
       "      <th>Date</th>\n",
       "      <th>Year</th>\n",
       "      <th>Type</th>\n",
       "      <th>Country</th>\n",
       "      <th>Area</th>\n",
       "      <th>Location</th>\n",
       "      <th>Activity</th>\n",
       "      <th>Name</th>\n",
       "      <th>Sex</th>\n",
       "      <th>...</th>\n",
       "      <th>Fatal (Y/N)</th>\n",
       "      <th>Time</th>\n",
       "      <th>Species</th>\n",
       "      <th>Investigator or Source</th>\n",
       "      <th>pdf</th>\n",
       "      <th>href formula</th>\n",
       "      <th>href</th>\n",
       "      <th>Case Number.1</th>\n",
       "      <th>Case Number.2</th>\n",
       "      <th>original order</th>\n",
       "    </tr>\n",
       "  </thead>\n",
       "  <tbody>\n",
       "    <tr>\n",
       "      <th>0</th>\n",
       "      <td>2022-07-16 00:00:00</td>\n",
       "      <td>2022-07-16 00:00:00</td>\n",
       "      <td>2022.0</td>\n",
       "      <td>Unprovoked</td>\n",
       "      <td>USA</td>\n",
       "      <td>Florida</td>\n",
       "      <td>Daytona Beach Shores, Volusia County</td>\n",
       "      <td>NaN</td>\n",
       "      <td>Tasa Summers</td>\n",
       "      <td>F</td>\n",
       "      <td>...</td>\n",
       "      <td>N</td>\n",
       "      <td>13h12</td>\n",
       "      <td>A small shark</td>\n",
       "      <td>WESH, 717,2022</td>\n",
       "      <td>2022.07.16-Summers.pdf</td>\n",
       "      <td>http://sharkattackfile.net/spreadsheets/pdf_di...</td>\n",
       "      <td>http://sharkattackfile.net/spreadsheets/pdf_di...</td>\n",
       "      <td>2022-07-16 00:00:00</td>\n",
       "      <td>2022-07-16 00:00:00</td>\n",
       "      <td>6785.0</td>\n",
       "    </tr>\n",
       "    <tr>\n",
       "      <th>1</th>\n",
       "      <td>2022,91,06.R</td>\n",
       "      <td>2022-01-06 00:00:00</td>\n",
       "      <td>2022.0</td>\n",
       "      <td>Unprovoked</td>\n",
       "      <td>USA</td>\n",
       "      <td>Florida</td>\n",
       "      <td>Anna Maria Island, Manatee County</td>\n",
       "      <td>Wing Foil Surfing</td>\n",
       "      <td>Erika Lane</td>\n",
       "      <td>F</td>\n",
       "      <td>...</td>\n",
       "      <td>N</td>\n",
       "      <td>14h45</td>\n",
       "      <td>Blacktip or spinner shark</td>\n",
       "      <td>ABC.net</td>\n",
       "      <td>2022.01.06.R-Lane.pdf</td>\n",
       "      <td>http://sharkattackfile.net/spreadsheets/pdf_di...</td>\n",
       "      <td>http://sharkattackfile.net/spreadsheets/pdf_di...</td>\n",
       "      <td>2022.01.06.R</td>\n",
       "      <td>2022,91,06.R</td>\n",
       "      <td>6729.0</td>\n",
       "    </tr>\n",
       "    <tr>\n",
       "      <th>2</th>\n",
       "      <td>2021-08-02 00:00:00</td>\n",
       "      <td>2021-08-02 00:00:00</td>\n",
       "      <td>2021.0</td>\n",
       "      <td>Unprovoked</td>\n",
       "      <td>USA</td>\n",
       "      <td>Maryland</td>\n",
       "      <td>Ocean City, Worcester County</td>\n",
       "      <td>Swimming</td>\n",
       "      <td>Jordan Prushinski</td>\n",
       "      <td>F</td>\n",
       "      <td>...</td>\n",
       "      <td>N</td>\n",
       "      <td>15h00</td>\n",
       "      <td>Blacktip shark</td>\n",
       "      <td>J. Marchand. GSAF</td>\n",
       "      <td>2021.08.02-Prushinski.pdf</td>\n",
       "      <td>http://sharkattackfile.net/spreadsheets/pdf_di...</td>\n",
       "      <td>http://sharkattackfile.net/spreadsheets/pdf_di...</td>\n",
       "      <td>2021-08-02 00:00:00</td>\n",
       "      <td>2021-08-02 00:00:00</td>\n",
       "      <td>6696.0</td>\n",
       "    </tr>\n",
       "  </tbody>\n",
       "</table>\n",
       "<p>3 rows × 22 columns</p>\n",
       "</div>"
      ],
      "text/plain": [
       "           Case Number                 Date    Year        Type Country  \\\n",
       "0  2022-07-16 00:00:00  2022-07-16 00:00:00  2022.0  Unprovoked     USA   \n",
       "1         2022,91,06.R  2022-01-06 00:00:00  2022.0  Unprovoked     USA   \n",
       "2  2021-08-02 00:00:00  2021-08-02 00:00:00  2021.0  Unprovoked     USA   \n",
       "\n",
       "       Area                              Location           Activity  \\\n",
       "0   Florida  Daytona Beach Shores, Volusia County                NaN   \n",
       "1   Florida     Anna Maria Island, Manatee County  Wing Foil Surfing   \n",
       "2  Maryland          Ocean City, Worcester County           Swimming   \n",
       "\n",
       "                Name Sex  ... Fatal (Y/N)   Time                    Species  \\\n",
       "0       Tasa Summers   F  ...           N  13h12              A small shark   \n",
       "1         Erika Lane   F  ...           N  14h45  Blacktip or spinner shark   \n",
       "2  Jordan Prushinski   F  ...           N  15h00             Blacktip shark   \n",
       "\n",
       "  Investigator or Source                        pdf  \\\n",
       "0         WESH, 717,2022     2022.07.16-Summers.pdf   \n",
       "1                ABC.net      2022.01.06.R-Lane.pdf   \n",
       "2      J. Marchand. GSAF  2021.08.02-Prushinski.pdf   \n",
       "\n",
       "                                        href formula  \\\n",
       "0  http://sharkattackfile.net/spreadsheets/pdf_di...   \n",
       "1  http://sharkattackfile.net/spreadsheets/pdf_di...   \n",
       "2  http://sharkattackfile.net/spreadsheets/pdf_di...   \n",
       "\n",
       "                                                href        Case Number.1  \\\n",
       "0  http://sharkattackfile.net/spreadsheets/pdf_di...  2022-07-16 00:00:00   \n",
       "1  http://sharkattackfile.net/spreadsheets/pdf_di...         2022.01.06.R   \n",
       "2  http://sharkattackfile.net/spreadsheets/pdf_di...  2021-08-02 00:00:00   \n",
       "\n",
       "         Case Number.2 original order  \n",
       "0  2022-07-16 00:00:00         6785.0  \n",
       "1         2022,91,06.R         6729.0  \n",
       "2  2021-08-02 00:00:00         6696.0  \n",
       "\n",
       "[3 rows x 22 columns]"
      ]
     },
     "execution_count": 31,
     "metadata": {},
     "output_type": "execute_result"
    }
   ],
   "source": [
    "df = pd.read_excel('shark attacks final.xlsx', engine = 'openpyxl')\n",
    "df.replace('NaN', np.nan, inplace=True)\n",
    "df.replace('NA', np.nan, inplace=True)\n",
    "df.head(3)"
   ]
  },
  {
   "attachments": {},
   "cell_type": "markdown",
   "metadata": {},
   "source": [
    "Olhando a coluna Age"
   ]
  },
  {
   "cell_type": "code",
   "execution_count": 32,
   "metadata": {},
   "outputs": [
    {
     "name": "stdout",
     "output_type": "stream",
     "text": [
      "<class 'pandas.core.series.Series'>\n",
      "RangeIndex: 6816 entries, 0 to 6815\n",
      "Series name: Age\n",
      "Non-Null Count  Dtype \n",
      "--------------  ----- \n",
      "3839 non-null   object\n",
      "dtypes: object(1)\n",
      "memory usage: 53.4+ KB\n"
     ]
    }
   ],
   "source": [
    "df['Age'].info()"
   ]
  },
  {
   "cell_type": "code",
   "execution_count": 33,
   "metadata": {},
   "outputs": [
    {
     "data": {
      "text/plain": [
       "array([40, 42, 12, 9, 10, 26, 38, nan, 54, 17, 22, 55, 29, 14, 30, 69, 20,\n",
       "       11, 35, 23, 59, 31, 18, 15, 44, '20s', 24, 32, 6, 39, 50, 21, 66,\n",
       "       52, 48, 33, 28, 8, 46, 45, '21 & ?', 47, 73, 27, 5, 25, 13,\n",
       "       '7      &    31', 19, 36, 62, 49, 'Teen', '50s', 53, 57, 16, 43,\n",
       "       58, 71, 60, 37, 61, '9 & 12', 'X', '2½', 64, 56, 34, 41,\n",
       "       '18 months', 7, 51, 87, 65, '60s', 68, 75, 63, '? & 19', 3, 'teen',\n",
       "       67, 70, '46 & 34', 'Teens', '36 & 26', '30 & 32', 1, '30s',\n",
       "       '9 months', '31 or 33', 'a minor', 77, '50 & 30', '7 or 8',\n",
       "       '36 & 23', 'M', '40s', '17 & 35', 'F', 'young', '33 & 26',\n",
       "       '23 & 20', 72, 'Both 11', '45 and 15', '28, 23 & 30', '13 or 14',\n",
       "       '18 to 22', 'middle-age', '22, 57, 31', \"20's\", 'mid-30s',\n",
       "       'mid-20s', '23 & 26', '37, 67, 35, 27,  ? & 27', '!!', '9 & 60',\n",
       "       '6½', '33 or 37', '(adult)', 78, 74, 86, 'adult', '2 to 3 months',\n",
       "       'A.M.', 'Ca. 33', '21 or 26', \"60's\", '33 & 37', '34 & 19', 82,\n",
       "       '12 or 13', '>50', '13 or 18', 4, 'MAKE LINE GREEN', '20?',\n",
       "       '16 to 18', '8 or 10', '25 to 35', '21, 34,24 & 35', '17 & 16',\n",
       "       '9 or 10', '?    &   14', '18 or 20', '32 & 30', '25 or 28', '!6',\n",
       "       'Elderly', '28 & 22', '28 & 26', 84, 81, '30 or 36', '10 or 12'],\n",
       "      dtype=object)"
      ]
     },
     "execution_count": 33,
     "metadata": {},
     "output_type": "execute_result"
    }
   ],
   "source": [
    "df['Age'].unique()"
   ]
  },
  {
   "cell_type": "code",
   "execution_count": 45,
   "metadata": {},
   "outputs": [],
   "source": [
    "df['Age'].replace('s', '', regex=True, inplace=True)\n",
    "df['Age'].replace('&', ',', regex=True, inplace=True)\n",
    "df['Age'].replace('!', '', regex=True, inplace=True)\n",
    "df['Age'].replace('and', ',', regex=True, inplace=True)\n",
    "df['Age'].replace('\\?', '', regex=True, inplace=True)\n",
    "\n",
    "#vendo o or\n",
    "#df['Age'].str.removeprefix('or')\n",
    "\n",
    "#o resto\n",
    "\n",
    "\n",
    "df['Age'].replace('9 or 10', '10', inplace=True)\n",
    "df['Age'].replace('18 or 20', '20', inplace=True)\n",
    "df['Age'].replace('25 or 28', '28', inplace=True)\n",
    "df['Age'].replace('Elderly', '', inplace=True)\n",
    "df['Age'].replace('30 or 36', '30', inplace=True)\n",
    "df['Age'].replace('mid-30s', '30', regex=True, inplace=True)\n",
    "df['Age'].replace('mid-20s', '20', inplace=True)\n",
    "df['Age'].replace('6½', '6.5', inplace=True)\n",
    "df['Age'].replace('33 or 37', '33', inplace=True)\n",
    "df['Age'].replace('(adult)', '', inplace=True)\n",
    "df['Age'].replace('adult', '', inplace=True)\n",
    "df['Age'].replace('2 to 3 months', '0.3', inplace=True)\n",
    "df['Age'].replace('A.M.', '', inplace=True)\n",
    "df['Age'].replace('Ca. 33', '33', inplace=True)\n",
    "df['Age'].replace('21 or 26', '21', inplace=True)\n",
    "df['Age'].replace('>50', '', inplace=True)\n",
    "df['Age'].replace('13 or 18', '18', inplace=True)\n",
    "df['Age'].replace('MAKE LINE GREEN', '', inplace=True)\n",
    "df['Age'].replace('', '', inplace=True)\n",
    "df['Age'].replace('Teen', '', inplace=True)\n",
    "df['Age'].replace('teen', '', inplace=True)\n",
    "df['Age'].replace('X', '', inplace=True)\n",
    "df['Age'].replace('9 months', '0.75', inplace=True)\n",
    "df['Age'].replace('2½', '2.5', inplace=True)\n",
    "df['Age'].replace('18 months', '1', inplace=True)\n",
    "df['Age'].replace('Teens', '', inplace=True)\n",
    "df['Age'].replace('31 or 33', '32', inplace=True)\n",
    "df['Age'].replace('a minor', '', inplace=True)\n",
    "df['Age'].replace('7 or 8', '8', inplace=True)\n",
    "df['Age'].replace('M', '', inplace=True)\n",
    "df['Age'].replace('F', '', inplace=True)\n",
    "df['Age'].replace('young', '', inplace=True)\n",
    "df['Age'].replace('Both 11', '11', inplace=True)\n",
    "df['Age'].replace('13 or 14', '13', inplace=True)\n",
    "df['Age'].replace('18 to 22', '20', inplace=True)\n",
    "df['Age'].replace('middle-age', '', inplace=True)\n",
    "\n"
   ]
  },
  {
   "cell_type": "code",
   "execution_count": 46,
   "metadata": {},
   "outputs": [
    {
     "ename": "ValueError",
     "evalue": "could not convert string to float: '7          31'",
     "output_type": "error",
     "traceback": [
      "\u001b[1;31m---------------------------------------------------------------------------\u001b[0m",
      "\u001b[1;31mValueError\u001b[0m                                Traceback (most recent call last)",
      "Cell \u001b[1;32mIn [46], line 1\u001b[0m\n\u001b[1;32m----> 1\u001b[0m df[\u001b[39m'\u001b[39;49m\u001b[39mAge\u001b[39;49m\u001b[39m'\u001b[39;49m]\u001b[39m.\u001b[39;49mastype(\u001b[39mfloat\u001b[39;49m)\n",
      "File \u001b[1;32m~\\AppData\\Local\\Packages\\PythonSoftwareFoundation.Python.3.10_qbz5n2kfra8p0\\LocalCache\\local-packages\\Python310\\site-packages\\pandas\\core\\generic.py:6240\u001b[0m, in \u001b[0;36mNDFrame.astype\u001b[1;34m(self, dtype, copy, errors)\u001b[0m\n\u001b[0;32m   6233\u001b[0m     results \u001b[39m=\u001b[39m [\n\u001b[0;32m   6234\u001b[0m         \u001b[39mself\u001b[39m\u001b[39m.\u001b[39miloc[:, i]\u001b[39m.\u001b[39mastype(dtype, copy\u001b[39m=\u001b[39mcopy)\n\u001b[0;32m   6235\u001b[0m         \u001b[39mfor\u001b[39;00m i \u001b[39min\u001b[39;00m \u001b[39mrange\u001b[39m(\u001b[39mlen\u001b[39m(\u001b[39mself\u001b[39m\u001b[39m.\u001b[39mcolumns))\n\u001b[0;32m   6236\u001b[0m     ]\n\u001b[0;32m   6238\u001b[0m \u001b[39melse\u001b[39;00m:\n\u001b[0;32m   6239\u001b[0m     \u001b[39m# else, only a single dtype is given\u001b[39;00m\n\u001b[1;32m-> 6240\u001b[0m     new_data \u001b[39m=\u001b[39m \u001b[39mself\u001b[39;49m\u001b[39m.\u001b[39;49m_mgr\u001b[39m.\u001b[39;49mastype(dtype\u001b[39m=\u001b[39;49mdtype, copy\u001b[39m=\u001b[39;49mcopy, errors\u001b[39m=\u001b[39;49merrors)\n\u001b[0;32m   6241\u001b[0m     \u001b[39mreturn\u001b[39;00m \u001b[39mself\u001b[39m\u001b[39m.\u001b[39m_constructor(new_data)\u001b[39m.\u001b[39m__finalize__(\u001b[39mself\u001b[39m, method\u001b[39m=\u001b[39m\u001b[39m\"\u001b[39m\u001b[39mastype\u001b[39m\u001b[39m\"\u001b[39m)\n\u001b[0;32m   6243\u001b[0m \u001b[39m# GH 33113: handle empty frame or series\u001b[39;00m\n",
      "File \u001b[1;32m~\\AppData\\Local\\Packages\\PythonSoftwareFoundation.Python.3.10_qbz5n2kfra8p0\\LocalCache\\local-packages\\Python310\\site-packages\\pandas\\core\\internals\\managers.py:445\u001b[0m, in \u001b[0;36mBaseBlockManager.astype\u001b[1;34m(self, dtype, copy, errors)\u001b[0m\n\u001b[0;32m    444\u001b[0m \u001b[39mdef\u001b[39;00m \u001b[39mastype\u001b[39m(\u001b[39mself\u001b[39m: T, dtype, copy: \u001b[39mbool\u001b[39m \u001b[39m=\u001b[39m \u001b[39mFalse\u001b[39;00m, errors: \u001b[39mstr\u001b[39m \u001b[39m=\u001b[39m \u001b[39m\"\u001b[39m\u001b[39mraise\u001b[39m\u001b[39m\"\u001b[39m) \u001b[39m-\u001b[39m\u001b[39m>\u001b[39m T:\n\u001b[1;32m--> 445\u001b[0m     \u001b[39mreturn\u001b[39;00m \u001b[39mself\u001b[39;49m\u001b[39m.\u001b[39;49mapply(\u001b[39m\"\u001b[39;49m\u001b[39mastype\u001b[39;49m\u001b[39m\"\u001b[39;49m, dtype\u001b[39m=\u001b[39;49mdtype, copy\u001b[39m=\u001b[39;49mcopy, errors\u001b[39m=\u001b[39;49merrors)\n",
      "File \u001b[1;32m~\\AppData\\Local\\Packages\\PythonSoftwareFoundation.Python.3.10_qbz5n2kfra8p0\\LocalCache\\local-packages\\Python310\\site-packages\\pandas\\core\\internals\\managers.py:347\u001b[0m, in \u001b[0;36mBaseBlockManager.apply\u001b[1;34m(self, f, align_keys, ignore_failures, **kwargs)\u001b[0m\n\u001b[0;32m    345\u001b[0m         applied \u001b[39m=\u001b[39m b\u001b[39m.\u001b[39mapply(f, \u001b[39m*\u001b[39m\u001b[39m*\u001b[39mkwargs)\n\u001b[0;32m    346\u001b[0m     \u001b[39melse\u001b[39;00m:\n\u001b[1;32m--> 347\u001b[0m         applied \u001b[39m=\u001b[39m \u001b[39mgetattr\u001b[39m(b, f)(\u001b[39m*\u001b[39m\u001b[39m*\u001b[39mkwargs)\n\u001b[0;32m    348\u001b[0m \u001b[39mexcept\u001b[39;00m (\u001b[39mTypeError\u001b[39;00m, \u001b[39mNotImplementedError\u001b[39;00m):\n\u001b[0;32m    349\u001b[0m     \u001b[39mif\u001b[39;00m \u001b[39mnot\u001b[39;00m ignore_failures:\n",
      "File \u001b[1;32m~\\AppData\\Local\\Packages\\PythonSoftwareFoundation.Python.3.10_qbz5n2kfra8p0\\LocalCache\\local-packages\\Python310\\site-packages\\pandas\\core\\internals\\blocks.py:526\u001b[0m, in \u001b[0;36mBlock.astype\u001b[1;34m(self, dtype, copy, errors)\u001b[0m\n\u001b[0;32m    508\u001b[0m \u001b[39m\"\"\"\u001b[39;00m\n\u001b[0;32m    509\u001b[0m \u001b[39mCoerce to the new dtype.\u001b[39;00m\n\u001b[0;32m    510\u001b[0m \n\u001b[1;32m   (...)\u001b[0m\n\u001b[0;32m    522\u001b[0m \u001b[39mBlock\u001b[39;00m\n\u001b[0;32m    523\u001b[0m \u001b[39m\"\"\"\u001b[39;00m\n\u001b[0;32m    524\u001b[0m values \u001b[39m=\u001b[39m \u001b[39mself\u001b[39m\u001b[39m.\u001b[39mvalues\n\u001b[1;32m--> 526\u001b[0m new_values \u001b[39m=\u001b[39m astype_array_safe(values, dtype, copy\u001b[39m=\u001b[39;49mcopy, errors\u001b[39m=\u001b[39;49merrors)\n\u001b[0;32m    528\u001b[0m new_values \u001b[39m=\u001b[39m maybe_coerce_values(new_values)\n\u001b[0;32m    529\u001b[0m newb \u001b[39m=\u001b[39m \u001b[39mself\u001b[39m\u001b[39m.\u001b[39mmake_block(new_values)\n",
      "File \u001b[1;32m~\\AppData\\Local\\Packages\\PythonSoftwareFoundation.Python.3.10_qbz5n2kfra8p0\\LocalCache\\local-packages\\Python310\\site-packages\\pandas\\core\\dtypes\\astype.py:299\u001b[0m, in \u001b[0;36mastype_array_safe\u001b[1;34m(values, dtype, copy, errors)\u001b[0m\n\u001b[0;32m    296\u001b[0m     \u001b[39mreturn\u001b[39;00m values\u001b[39m.\u001b[39mcopy()\n\u001b[0;32m    298\u001b[0m \u001b[39mtry\u001b[39;00m:\n\u001b[1;32m--> 299\u001b[0m     new_values \u001b[39m=\u001b[39m astype_array(values, dtype, copy\u001b[39m=\u001b[39;49mcopy)\n\u001b[0;32m    300\u001b[0m \u001b[39mexcept\u001b[39;00m (\u001b[39mValueError\u001b[39;00m, \u001b[39mTypeError\u001b[39;00m):\n\u001b[0;32m    301\u001b[0m     \u001b[39m# e.g. astype_nansafe can fail on object-dtype of strings\u001b[39;00m\n\u001b[0;32m    302\u001b[0m     \u001b[39m#  trying to convert to float\u001b[39;00m\n\u001b[0;32m    303\u001b[0m     \u001b[39mif\u001b[39;00m errors \u001b[39m==\u001b[39m \u001b[39m\"\u001b[39m\u001b[39mignore\u001b[39m\u001b[39m\"\u001b[39m:\n",
      "File \u001b[1;32m~\\AppData\\Local\\Packages\\PythonSoftwareFoundation.Python.3.10_qbz5n2kfra8p0\\LocalCache\\local-packages\\Python310\\site-packages\\pandas\\core\\dtypes\\astype.py:230\u001b[0m, in \u001b[0;36mastype_array\u001b[1;34m(values, dtype, copy)\u001b[0m\n\u001b[0;32m    227\u001b[0m     values \u001b[39m=\u001b[39m values\u001b[39m.\u001b[39mastype(dtype, copy\u001b[39m=\u001b[39mcopy)\n\u001b[0;32m    229\u001b[0m \u001b[39melse\u001b[39;00m:\n\u001b[1;32m--> 230\u001b[0m     values \u001b[39m=\u001b[39m astype_nansafe(values, dtype, copy\u001b[39m=\u001b[39;49mcopy)\n\u001b[0;32m    232\u001b[0m \u001b[39m# in pandas we don't store numpy str dtypes, so convert to object\u001b[39;00m\n\u001b[0;32m    233\u001b[0m \u001b[39mif\u001b[39;00m \u001b[39misinstance\u001b[39m(dtype, np\u001b[39m.\u001b[39mdtype) \u001b[39mand\u001b[39;00m \u001b[39missubclass\u001b[39m(values\u001b[39m.\u001b[39mdtype\u001b[39m.\u001b[39mtype, \u001b[39mstr\u001b[39m):\n",
      "File \u001b[1;32m~\\AppData\\Local\\Packages\\PythonSoftwareFoundation.Python.3.10_qbz5n2kfra8p0\\LocalCache\\local-packages\\Python310\\site-packages\\pandas\\core\\dtypes\\astype.py:170\u001b[0m, in \u001b[0;36mastype_nansafe\u001b[1;34m(arr, dtype, copy, skipna)\u001b[0m\n\u001b[0;32m    166\u001b[0m     \u001b[39mraise\u001b[39;00m \u001b[39mValueError\u001b[39;00m(msg)\n\u001b[0;32m    168\u001b[0m \u001b[39mif\u001b[39;00m copy \u001b[39mor\u001b[39;00m is_object_dtype(arr\u001b[39m.\u001b[39mdtype) \u001b[39mor\u001b[39;00m is_object_dtype(dtype):\n\u001b[0;32m    169\u001b[0m     \u001b[39m# Explicit copy, or required since NumPy can't view from / to object.\u001b[39;00m\n\u001b[1;32m--> 170\u001b[0m     \u001b[39mreturn\u001b[39;00m arr\u001b[39m.\u001b[39;49mastype(dtype, copy\u001b[39m=\u001b[39;49m\u001b[39mTrue\u001b[39;49;00m)\n\u001b[0;32m    172\u001b[0m \u001b[39mreturn\u001b[39;00m arr\u001b[39m.\u001b[39mastype(dtype, copy\u001b[39m=\u001b[39mcopy)\n",
      "\u001b[1;31mValueError\u001b[0m: could not convert string to float: '7          31'"
     ]
    }
   ],
   "source": [
    "df['Age'].astype(float)"
   ]
  },
  {
   "cell_type": "code",
   "execution_count": null,
   "metadata": {},
   "outputs": [],
   "source": []
  }
 ],
 "metadata": {
  "kernelspec": {
   "display_name": "Python 3",
   "language": "python",
   "name": "python3"
  },
  "language_info": {
   "codemirror_mode": {
    "name": "ipython",
    "version": 3
   },
   "file_extension": ".py",
   "mimetype": "text/x-python",
   "name": "python",
   "nbconvert_exporter": "python",
   "pygments_lexer": "ipython3",
   "version": "3.10.9"
  },
  "orig_nbformat": 4,
  "vscode": {
   "interpreter": {
    "hash": "32760d48c824fc5b54dfb7d4aee58e4f164c509b01e7e97587d19eb0e206a2a5"
   }
  }
 },
 "nbformat": 4,
 "nbformat_minor": 2
}
