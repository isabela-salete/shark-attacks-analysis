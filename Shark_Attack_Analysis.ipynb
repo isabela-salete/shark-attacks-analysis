{
 "cells": [
  {
   "cell_type": "code",
   "execution_count": 1,
   "metadata": {},
   "outputs": [],
   "source": [
    "import pandas as pd\n",
    "import numpy as np \n",
    "from sklearn.model_selection import train_test_split\n",
    "from sklearn.neighbors import *\n",
    "from sklearn.preprocessing import normalize\n",
    "import seaborn as sns\n",
    "import matplotlib.pyplot as plt\n",
    "import plotly.express as px\n",
    "import category_encoders as ce\n",
    "%matplotlib inline"
   ]
  },
  {
   "cell_type": "code",
   "execution_count": 141,
   "metadata": {},
   "outputs": [
    {
     "data": {
      "text/html": [
       "<div>\n",
       "<style scoped>\n",
       "    .dataframe tbody tr th:only-of-type {\n",
       "        vertical-align: middle;\n",
       "    }\n",
       "\n",
       "    .dataframe tbody tr th {\n",
       "        vertical-align: top;\n",
       "    }\n",
       "\n",
       "    .dataframe thead th {\n",
       "        text-align: right;\n",
       "    }\n",
       "</style>\n",
       "<table border=\"1\" class=\"dataframe\">\n",
       "  <thead>\n",
       "    <tr style=\"text-align: right;\">\n",
       "      <th></th>\n",
       "      <th>Case Number</th>\n",
       "      <th>Date</th>\n",
       "      <th>Year</th>\n",
       "      <th>Type</th>\n",
       "      <th>Country</th>\n",
       "      <th>Area</th>\n",
       "      <th>Location</th>\n",
       "      <th>Activity</th>\n",
       "      <th>Name</th>\n",
       "      <th>Sex</th>\n",
       "      <th>...</th>\n",
       "      <th>Fatal (Y/N)</th>\n",
       "      <th>Time</th>\n",
       "      <th>Species</th>\n",
       "      <th>Investigator or Source</th>\n",
       "      <th>pdf</th>\n",
       "      <th>href formula</th>\n",
       "      <th>href</th>\n",
       "      <th>Case Number.1</th>\n",
       "      <th>Case Number.2</th>\n",
       "      <th>original order</th>\n",
       "    </tr>\n",
       "  </thead>\n",
       "  <tbody>\n",
       "    <tr>\n",
       "      <th>0</th>\n",
       "      <td>2022-07-16 00:00:00</td>\n",
       "      <td>2022-07-16 00:00:00</td>\n",
       "      <td>2022.0</td>\n",
       "      <td>Unprovoked</td>\n",
       "      <td>USA</td>\n",
       "      <td>Florida</td>\n",
       "      <td>Daytona Beach Shores, Volusia County</td>\n",
       "      <td>NaN</td>\n",
       "      <td>Tasa Summers</td>\n",
       "      <td>F</td>\n",
       "      <td>...</td>\n",
       "      <td>N</td>\n",
       "      <td>13h12</td>\n",
       "      <td>A small shark</td>\n",
       "      <td>WESH, 717,2022</td>\n",
       "      <td>2022.07.16-Summers.pdf</td>\n",
       "      <td>http://sharkattackfile.net/spreadsheets/pdf_di...</td>\n",
       "      <td>http://sharkattackfile.net/spreadsheets/pdf_di...</td>\n",
       "      <td>2022-07-16 00:00:00</td>\n",
       "      <td>2022-07-16 00:00:00</td>\n",
       "      <td>6785.0</td>\n",
       "    </tr>\n",
       "    <tr>\n",
       "      <th>1</th>\n",
       "      <td>2022,91,06.R</td>\n",
       "      <td>2022-01-06 00:00:00</td>\n",
       "      <td>2022.0</td>\n",
       "      <td>Unprovoked</td>\n",
       "      <td>USA</td>\n",
       "      <td>Florida</td>\n",
       "      <td>Anna Maria Island, Manatee County</td>\n",
       "      <td>Wing Foil Surfing</td>\n",
       "      <td>Erika Lane</td>\n",
       "      <td>F</td>\n",
       "      <td>...</td>\n",
       "      <td>N</td>\n",
       "      <td>14h45</td>\n",
       "      <td>Blacktip or spinner shark</td>\n",
       "      <td>ABC.net</td>\n",
       "      <td>2022.01.06.R-Lane.pdf</td>\n",
       "      <td>http://sharkattackfile.net/spreadsheets/pdf_di...</td>\n",
       "      <td>http://sharkattackfile.net/spreadsheets/pdf_di...</td>\n",
       "      <td>2022.01.06.R</td>\n",
       "      <td>2022,91,06.R</td>\n",
       "      <td>6729.0</td>\n",
       "    </tr>\n",
       "    <tr>\n",
       "      <th>2</th>\n",
       "      <td>2021-08-02 00:00:00</td>\n",
       "      <td>2021-08-02 00:00:00</td>\n",
       "      <td>2021.0</td>\n",
       "      <td>Unprovoked</td>\n",
       "      <td>USA</td>\n",
       "      <td>Maryland</td>\n",
       "      <td>Ocean City, Worcester County</td>\n",
       "      <td>Swimming</td>\n",
       "      <td>Jordan Prushinski</td>\n",
       "      <td>F</td>\n",
       "      <td>...</td>\n",
       "      <td>N</td>\n",
       "      <td>15h00</td>\n",
       "      <td>Blacktip shark</td>\n",
       "      <td>J. Marchand. GSAF</td>\n",
       "      <td>2021.08.02-Prushinski.pdf</td>\n",
       "      <td>http://sharkattackfile.net/spreadsheets/pdf_di...</td>\n",
       "      <td>http://sharkattackfile.net/spreadsheets/pdf_di...</td>\n",
       "      <td>2021-08-02 00:00:00</td>\n",
       "      <td>2021-08-02 00:00:00</td>\n",
       "      <td>6696.0</td>\n",
       "    </tr>\n",
       "  </tbody>\n",
       "</table>\n",
       "<p>3 rows × 22 columns</p>\n",
       "</div>"
      ],
      "text/plain": [
       "           Case Number                 Date    Year        Type Country  \\\n",
       "0  2022-07-16 00:00:00  2022-07-16 00:00:00  2022.0  Unprovoked     USA   \n",
       "1         2022,91,06.R  2022-01-06 00:00:00  2022.0  Unprovoked     USA   \n",
       "2  2021-08-02 00:00:00  2021-08-02 00:00:00  2021.0  Unprovoked     USA   \n",
       "\n",
       "       Area                              Location           Activity  \\\n",
       "0   Florida  Daytona Beach Shores, Volusia County                NaN   \n",
       "1   Florida     Anna Maria Island, Manatee County  Wing Foil Surfing   \n",
       "2  Maryland          Ocean City, Worcester County           Swimming   \n",
       "\n",
       "                Name Sex  ... Fatal (Y/N)   Time                    Species  \\\n",
       "0       Tasa Summers   F  ...           N  13h12              A small shark   \n",
       "1         Erika Lane   F  ...           N  14h45  Blacktip or spinner shark   \n",
       "2  Jordan Prushinski   F  ...           N  15h00             Blacktip shark   \n",
       "\n",
       "  Investigator or Source                        pdf  \\\n",
       "0         WESH, 717,2022     2022.07.16-Summers.pdf   \n",
       "1                ABC.net      2022.01.06.R-Lane.pdf   \n",
       "2      J. Marchand. GSAF  2021.08.02-Prushinski.pdf   \n",
       "\n",
       "                                        href formula  \\\n",
       "0  http://sharkattackfile.net/spreadsheets/pdf_di...   \n",
       "1  http://sharkattackfile.net/spreadsheets/pdf_di...   \n",
       "2  http://sharkattackfile.net/spreadsheets/pdf_di...   \n",
       "\n",
       "                                                href        Case Number.1  \\\n",
       "0  http://sharkattackfile.net/spreadsheets/pdf_di...  2022-07-16 00:00:00   \n",
       "1  http://sharkattackfile.net/spreadsheets/pdf_di...         2022.01.06.R   \n",
       "2  http://sharkattackfile.net/spreadsheets/pdf_di...  2021-08-02 00:00:00   \n",
       "\n",
       "         Case Number.2 original order  \n",
       "0  2022-07-16 00:00:00         6785.0  \n",
       "1         2022,91,06.R         6729.0  \n",
       "2  2021-08-02 00:00:00         6696.0  \n",
       "\n",
       "[3 rows x 22 columns]"
      ]
     },
     "execution_count": 141,
     "metadata": {},
     "output_type": "execute_result"
    }
   ],
   "source": [
    "df = pd.read_excel('shark attacks final.xlsx', engine = 'openpyxl')\n",
    "df.replace('NaN', np.nan, inplace=True)\n",
    "df.replace('NA', np.nan, inplace=True)\n",
    "df.head(3)"
   ]
  },
  {
   "attachments": {},
   "cell_type": "markdown",
   "metadata": {},
   "source": [
    "<h2>Removendo Colunas Desnessárias:</h2>"
   ]
  },
  {
   "cell_type": "code",
   "execution_count": 3,
   "metadata": {},
   "outputs": [
    {
     "data": {
      "text/plain": [
       "Index(['Case Number', 'Date', 'Year', 'Type', 'Country', 'Area', 'Location',\n",
       "       'Activity', 'Name', 'Sex', 'Age', 'Injury', 'Fatal (Y/N)', 'Time',\n",
       "       'Species', 'Investigator or Source', 'pdf', 'href formula', 'href',\n",
       "       'Case Number.1', 'Case Number.2', 'original order'],\n",
       "      dtype='object')"
      ]
     },
     "execution_count": 3,
     "metadata": {},
     "output_type": "execute_result"
    }
   ],
   "source": [
    "df.columns"
   ]
  },
  {
   "cell_type": "code",
   "execution_count": 4,
   "metadata": {},
   "outputs": [
    {
     "data": {
      "text/html": [
       "<div>\n",
       "<style scoped>\n",
       "    .dataframe tbody tr th:only-of-type {\n",
       "        vertical-align: middle;\n",
       "    }\n",
       "\n",
       "    .dataframe tbody tr th {\n",
       "        vertical-align: top;\n",
       "    }\n",
       "\n",
       "    .dataframe thead th {\n",
       "        text-align: right;\n",
       "    }\n",
       "</style>\n",
       "<table border=\"1\" class=\"dataframe\">\n",
       "  <thead>\n",
       "    <tr style=\"text-align: right;\">\n",
       "      <th></th>\n",
       "      <th>Date</th>\n",
       "      <th>Type</th>\n",
       "      <th>Country</th>\n",
       "      <th>Area</th>\n",
       "      <th>Location</th>\n",
       "      <th>Activity</th>\n",
       "      <th>Name</th>\n",
       "      <th>Sex</th>\n",
       "      <th>Age</th>\n",
       "      <th>Injury</th>\n",
       "      <th>Fatal (Y/N)</th>\n",
       "      <th>Time</th>\n",
       "      <th>Species</th>\n",
       "      <th>Investigator or Source</th>\n",
       "    </tr>\n",
       "  </thead>\n",
       "  <tbody>\n",
       "    <tr>\n",
       "      <th>0</th>\n",
       "      <td>2022-07-16 00:00:00</td>\n",
       "      <td>Unprovoked</td>\n",
       "      <td>USA</td>\n",
       "      <td>Florida</td>\n",
       "      <td>Daytona Beach Shores, Volusia County</td>\n",
       "      <td>NaN</td>\n",
       "      <td>Tasa Summers</td>\n",
       "      <td>F</td>\n",
       "      <td>40</td>\n",
       "      <td>Minor lacerations to left calf</td>\n",
       "      <td>N</td>\n",
       "      <td>13h12</td>\n",
       "      <td>A small shark</td>\n",
       "      <td>WESH, 717,2022</td>\n",
       "    </tr>\n",
       "  </tbody>\n",
       "</table>\n",
       "</div>"
      ],
      "text/plain": [
       "                  Date        Type Country     Area  \\\n",
       "0  2022-07-16 00:00:00  Unprovoked     USA  Florida   \n",
       "\n",
       "                               Location Activity          Name Sex Age  \\\n",
       "0  Daytona Beach Shores, Volusia County      NaN  Tasa Summers   F  40   \n",
       "\n",
       "                           Injury Fatal (Y/N)   Time        Species  \\\n",
       "0  Minor lacerations to left calf           N  13h12  A small shark   \n",
       "\n",
       "  Investigator or Source  \n",
       "0         WESH, 717,2022  "
      ]
     },
     "execution_count": 4,
     "metadata": {},
     "output_type": "execute_result"
    }
   ],
   "source": [
    "df.drop(columns=['Case Number', 'pdf', 'href formula','href', 'Case Number.1', 'Case Number.2', 'original order', 'Year'], inplace=True)\n",
    "df.head(1)"
   ]
  },
  {
   "attachments": {},
   "cell_type": "markdown",
   "metadata": {},
   "source": [
    "<h2>Coluna Date:</h2>"
   ]
  },
  {
   "cell_type": "code",
   "execution_count": 5,
   "metadata": {},
   "outputs": [
    {
     "data": {
      "text/plain": [
       "pandas.core.series.Series"
      ]
     },
     "execution_count": 5,
     "metadata": {},
     "output_type": "execute_result"
    }
   ],
   "source": [
    "type(df['Date'])"
   ]
  },
  {
   "cell_type": "code",
   "execution_count": 6,
   "metadata": {},
   "outputs": [
    {
     "name": "stdout",
     "output_type": "stream",
     "text": [
      "<class 'pandas.core.frame.DataFrame'>\n",
      "RangeIndex: 6840 entries, 0 to 6839\n",
      "Data columns (total 14 columns):\n",
      " #   Column                  Non-Null Count  Dtype \n",
      "---  ------                  --------------  ----- \n",
      " 0   Date                    6538 non-null   object\n",
      " 1   Type                    6818 non-null   object\n",
      " 2   Country                 6787 non-null   object\n",
      " 3   Area                    6359 non-null   object\n",
      " 4   Location                6275 non-null   object\n",
      " 5   Activity                6253 non-null   object\n",
      " 6   Name                    6616 non-null   object\n",
      " 7   Sex                     6270 non-null   object\n",
      " 8   Age                     3863 non-null   object\n",
      " 9   Injury                  6803 non-null   object\n",
      " 10  Fatal (Y/N)             6840 non-null   object\n",
      " 11  Time                    3322 non-null   object\n",
      " 12  Species                 3753 non-null   object\n",
      " 13  Investigator or Source  6817 non-null   object\n",
      "dtypes: object(14)\n",
      "memory usage: 748.2+ KB\n"
     ]
    }
   ],
   "source": [
    "df.info()"
   ]
  },
  {
   "cell_type": "code",
   "execution_count": 7,
   "metadata": {},
   "outputs": [],
   "source": [
    "df['Date'] = pd.to_datetime(df['Date'], errors='coerce')"
   ]
  },
  {
   "attachments": {},
   "cell_type": "markdown",
   "metadata": {},
   "source": [
    "<h2>Coluna Type:</h2>"
   ]
  },
  {
   "cell_type": "code",
   "execution_count": 8,
   "metadata": {},
   "outputs": [
    {
     "data": {
      "text/plain": [
       "array(['Unprovoked', nan, 'Provoked', 'Under investigation',\n",
       "       'Questionable', 'Sea Disaster', 'Watercraft', 'Invalid',\n",
       "       'Unconfirmed', 'Boat', '?', 'Unverified'], dtype=object)"
      ]
     },
     "execution_count": 8,
     "metadata": {},
     "output_type": "execute_result"
    }
   ],
   "source": [
    "df['Type'].unique()"
   ]
  },
  {
   "cell_type": "code",
   "execution_count": 9,
   "metadata": {},
   "outputs": [],
   "source": [
    "df['Type'].replace('Boat', 'Watercraft', inplace=True)\n",
    "df['Type'].replace('Unconfirmed', 'Invalid', inplace=True)\n",
    "df['Type'].replace('Under investigation', 'Invalid', inplace=True)\n",
    "df['Type'].replace('Unverified', 'Invalid', inplace=True)\n",
    "df['Type'].replace('Questionable', 'Invalid', inplace=True)\n",
    "df['Type'].replace('?', 'Invalid', inplace=True)"
   ]
  },
  {
   "attachments": {},
   "cell_type": "markdown",
   "metadata": {},
   "source": [
    "<h2>Coluna Country: </h2>"
   ]
  },
  {
   "cell_type": "code",
   "execution_count": 10,
   "metadata": {},
   "outputs": [
    {
     "data": {
      "text/plain": [
       "array(['USA', 'AUSTRALIA', 'SOUTH AFRICA', 'MEXICO', 'BAHAMAS',\n",
       "       'COSTA RICA', 'REUNION', 'EGYPT', 'GREECE', 'JAPAN', 'JAMAICA',\n",
       "       'TAIWAN', 'VIETNAM', 'UNITED KINGDOM', 'NEW ZEALAND', 'ENGLAND',\n",
       "       'BRAZIL', 'TONGA', 'THAILAND', 'FIJI', 'MARSHALL ISLANDS',\n",
       "       'SENEGAL', 'CHILE', 'SOUTH CHINA SEA', 'MOZAMBIQUE',\n",
       "       'FRENCH POLYNESIA', 'PAPUA NEW GUINEA', 'COLUMBIA', 'SINGAPORE',\n",
       "       'ITALY', 'VANUATU', 'BERMUDA', 'PHILIPPINES', 'INDIA', 'PORTUGAL',\n",
       "       'ATLANTIC OCEAN', 'PANAMA', 'CUBA', 'CAPE VERDE', 'KUWAIT',\n",
       "       'GUYANA', 'SIERRA LEONE', 'CANADA', nan, 'MADAGASCAR',\n",
       "       'NORTH PACIFIC OCEAN', 'NEW CALEDONIA', 'NIGERIA',\n",
       "       'BRITISH VIRGIN ISLANDS', 'EL SALVADOR', 'SPAIN', 'WESTERN SAMOA',\n",
       "       'CROATIA', 'YEMEN', 'PACIFIC OCEAN', 'CHINA', 'TURKEY', 'KIRIBATI',\n",
       "       'INDONESIA', 'PARAGUAY', 'URUGUAY', 'LEBANON', 'ASIA?',\n",
       "       'UNITED ARAB EMIRATES', 'RUSSIA', 'TURKS & CAICOS', 'GUAM',\n",
       "       'BRITISH ISLES', 'SOUTH ATLANTIC OCEAN', 'NEW BRITAIN',\n",
       "       'AMERICAN SAMOA', 'HONG KONG', 'NEW GUINEA', 'IRAN',\n",
       "       'SOLOMON ISLANDS', 'BARBADOS', 'MARTINIQUE', 'GEORGIA', 'SWEDEN',\n",
       "       'SUDAN', 'PUERTO RICO', 'SOMALIA', 'GULF OF ADEN', 'BELIZE',\n",
       "       'OKINAWA', 'ISRAEL', 'JOHNSTON ISLAND', 'INDIAN OCEAN',\n",
       "       'NICARAGUA', 'AFRICA', 'GREENLAND', 'IRAQ',\n",
       "       'British Overseas Territory', 'SAMOA', 'NEVIS', 'AZORES',\n",
       "       'SEYCHELLES', 'Sierra Leone', 'MICRONESIA', 'MAURITIUS',\n",
       "       'SRI LANKA', 'TANZANIA', 'MONTENEGRO', 'CRETE', 'LIBYA',\n",
       "       'BRITISH NEW GUINEA', 'Coast of AFRICA', 'GUINEA', 'FRANCE',\n",
       "       'ANTIGUA', 'VENEZUELA', 'ANGOLA', 'MID ATLANTIC OCEAN', 'ECUADOR',\n",
       "       'NORTH ATLANTIC OCEAN', 'BAY OF BENGAL', 'SCOTLAND',\n",
       "       'ANDAMAN ISLANDS', 'KENYA',\n",
       "       'ST HELENA, British overseas territory', 'SOUTH KOREA',\n",
       "       'CARIBBEAN SEA', 'PALAU', 'MALTA', 'SOUTHWEST PACIFIC OCEAN',\n",
       "       'TUVALU', 'TOBAGO', 'SAUDI ARABIA', 'COMOROS', 'NORWAY',\n",
       "       'DOMINICAN REPUBLIC', 'Fiji', 'BRITISH WEST INDIES', 'GABON',\n",
       "       'BURMA', 'New Zealand', 'REUNION ISLAND',\n",
       "       'SOLOMON ISLANDS / VANUATU', 'JORDAN', 'MALDIVES',\n",
       "       'CAYMAN ISLANDS', 'UNITED ARAB EMIRATES (UAE)', 'ST. MAARTIN',\n",
       "       'IRAN / IRAQ', 'FEDERATED STATES OF MICRONESIA', 'WEST INDIES',\n",
       "       'ADMIRALTY ISLANDS', 'HONDURAS', 'MONACO', 'SAN DOMINGO',\n",
       "       'DJIBOUTI', 'JA MAICA', 'ST MARTIN', 'DIEGO GARCIA', 'TUNISIA',\n",
       "       'MALDIVE ISLANDS', 'ANDAMAN / NICOBAR ISLANDAS', 'THE BALKANS',\n",
       "       'GRAND CAYMAN', 'NORTHERN ARABIAN SEA', 'MALAYSIA',\n",
       "       'RED SEA / INDIAN OCEAN', 'PERSIAN GULF', 'HAITI', 'PERU',\n",
       "       'ALGERIA', 'SLOVENIA', 'CEYLON', 'EQUATORIAL GUINEA / CAMEROON',\n",
       "       'TRINIDAD & TOBAGO', 'GRENADA', 'LIBERIA', 'CENTRAL PACIFIC',\n",
       "       'OCEAN', 'SUDAN?', 'GHANA', 'RED SEA?', 'JAVA',\n",
       "       'SOUTH PACIFIC OCEAN', 'ITALY / CROATIA', 'MEDITERRANEAN SEA',\n",
       "       'ROATAN', 'GUATEMALA', 'ARUBA', 'NORTHERN MARIANA ISLANDS',\n",
       "       'MID-PACIFC OCEAN', 'IRELAND', 'TASMAN SEA',\n",
       "       'NETHERLANDS ANTILLES', 'KOREA', 'RED SEA', 'NAMIBIA',\n",
       "       'EGYPT / ISRAEL', 'BANGLADESH', 'NORTH SEA', 'CURACAO',\n",
       "       'CEYLON (SRI LANKA)', 'ST KITTS / NEVIS', 'COOK ISLANDS',\n",
       "       'ICELAND', 'COLOMBIA', 'PALESTINIAN TERRITORIES', 'Seychelles',\n",
       "       'MAYOTTE', 'ARGENTINA', 'FALKLAND ISLANDS', 'INDIAN OCEAN?',\n",
       "       'Between PORTUGAL & INDIA', 'ST. MARTIN', 'CYPRUS', 'SYRIA',\n",
       "       'BAHREIN'], dtype=object)"
      ]
     },
     "execution_count": 10,
     "metadata": {},
     "output_type": "execute_result"
    }
   ],
   "source": [
    "df['Country'].unique()"
   ]
  },
  {
   "cell_type": "code",
   "execution_count": 11,
   "metadata": {},
   "outputs": [],
   "source": [
    "df['Country'] = df['Country'].str.upper()"
   ]
  },
  {
   "cell_type": "code",
   "execution_count": 12,
   "metadata": {},
   "outputs": [],
   "source": [
    "df['Country'].replace('ST. MARTIN', 'ST MARTIN', inplace=True)\n",
    "df['Country'].replace('/', '&', inplace=True)\n",
    "df['Country'].replace('JA MAICA', 'JAMAICA', inplace=True)\n",
    "df['Country'].replace('RED SEA?', 'RED SEA', inplace=True)"
   ]
  },
  {
   "attachments": {},
   "cell_type": "markdown",
   "metadata": {},
   "source": [
    "<h2> Coluna Name:</h2>"
   ]
  },
  {
   "cell_type": "code",
   "execution_count": 13,
   "metadata": {},
   "outputs": [],
   "source": [
    "df['Name'].replace('male', '', inplace=True)\n",
    "df['Name'].replace('female', '', inplace=True)"
   ]
  },
  {
   "attachments": {},
   "cell_type": "markdown",
   "metadata": {},
   "source": [
    "<h2>Coluna Sex </h2>"
   ]
  },
  {
   "cell_type": "code",
   "execution_count": 14,
   "metadata": {},
   "outputs": [
    {
     "data": {
      "text/plain": [
       "array(['F', 'M', nan, 'N', 'lli', 'M x 2', '.'], dtype=object)"
      ]
     },
     "execution_count": 14,
     "metadata": {},
     "output_type": "execute_result"
    }
   ],
   "source": [
    "df['Sex'].unique()"
   ]
  },
  {
   "cell_type": "code",
   "execution_count": 15,
   "metadata": {},
   "outputs": [],
   "source": [
    "df['Sex'].replace('.', '', inplace=True)\n",
    "df['Sex'].replace('lli', 'M', inplace=True)\n",
    "df['Sex'].replace('M x 2', 'M', inplace=True)\n",
    "df['Sex'].replace('N', 'M', inplace=True)"
   ]
  },
  {
   "attachments": {},
   "cell_type": "markdown",
   "metadata": {},
   "source": [
    "<h2>Coluna Age:</h2>"
   ]
  },
  {
   "cell_type": "code",
   "execution_count": 16,
   "metadata": {},
   "outputs": [
    {
     "name": "stdout",
     "output_type": "stream",
     "text": [
      "<class 'pandas.core.series.Series'>\n",
      "RangeIndex: 6840 entries, 0 to 6839\n",
      "Series name: Age\n",
      "Non-Null Count  Dtype \n",
      "--------------  ----- \n",
      "3863 non-null   object\n",
      "dtypes: object(1)\n",
      "memory usage: 53.6+ KB\n"
     ]
    }
   ],
   "source": [
    "df['Age'].info()"
   ]
  },
  {
   "cell_type": "code",
   "execution_count": 17,
   "metadata": {},
   "outputs": [
    {
     "data": {
      "text/plain": [
       "array([40, 42, 12, 9, 10, 26, 38, nan, 54, 17, 22, 55, 29, 14, 30, 69, 20,\n",
       "       11, 35, 23, 59, 31, 18, 15, 44, '20s', 24, 32, 6, 39, 50, 21, 66,\n",
       "       52, 48, 33, 28, 8, 46, 45, 47, 73, 27, 5, 25, 13, 7, 19, 36, 62,\n",
       "       49, 'Teen', '50s', 53, 57, 16, 43, 58, 71, 60, 37, 61, 'X', '2½',\n",
       "       64, 56, 34, 41, '18 months', 51, 87, 65, '60s', 68, 75, 63, 3,\n",
       "       'teen', 67, 70, 'Teens', 1, '30s', '9 months', '31 or 33',\n",
       "       'a minor', 77, '7 or 8', 'M', '40s', 'F', 'young', 72, 'Both 11',\n",
       "       '13 or 14', '18 to 22', 'middle-age', \"20's\", 'mid-30s', 'mid-20s',\n",
       "       '!!', '6½', '33 or 37', '(adult)', 78, 74, 86, 'adult',\n",
       "       '2 to 3 months', 'A.M.', 'Ca. 33', '21 or 26', \"60's\", 82,\n",
       "       '12 or 13', '>50', '13 or 18', 4, 'MAKE LINE GREEN', '20?',\n",
       "       '16 to 18', '8 or 10', '25 to 35', '9 or 10', '18 or 20',\n",
       "       '25 or 28', '!6', 'Elderly', 84, 81, '30 or 36', '10 or 12'],\n",
       "      dtype=object)"
      ]
     },
     "execution_count": 17,
     "metadata": {},
     "output_type": "execute_result"
    }
   ],
   "source": [
    "df['Age'].unique()"
   ]
  },
  {
   "cell_type": "code",
   "execution_count": 18,
   "metadata": {},
   "outputs": [],
   "source": [
    "df['Age'].replace('s', '', regex=True, inplace=True)\n",
    "df['Age'].replace(\"'\", '', regex=True, inplace=True)\n",
    "df['Age'].replace('!', '', regex=True, inplace=True)\n",
    "df['Age'].replace('\\?', '', regex=True, inplace=True)\n",
    "df['Age'].replace('9 or 10', '10', inplace=True)\n",
    "df['Age'].replace('18 or 20', '19', inplace=True)\n",
    "df['Age'].replace('25 or 28', '26', inplace=True)\n",
    "df['Age'].replace('Elderly', 'nan', inplace=True)\n",
    "df['Age'].replace('30 or 36', '33', inplace=True)\n",
    "df['Age'].replace('mid-30', '30', regex=True, inplace=True)\n",
    "df['Age'].replace('mid-20', '20', inplace=True)\n",
    "df['Age'].replace('6½', '6', inplace=True)\n",
    "df['Age'].replace('33 or 37', '35', inplace=True)\n",
    "df['Age'].replace('(adult)', 'nan', inplace=True)\n",
    "df['Age'].replace('adult', 'nan', inplace=True)\n",
    "df['Age'].replace('2 to 3 month', '0.3', inplace=True)\n",
    "df['Age'].replace('A.M.', 'nan', inplace=True)\n",
    "df['Age'].replace('Ca. 33', '33', inplace=True)\n",
    "df['Age'].replace('21 or 26', '23', inplace=True)\n",
    "df['Age'].replace('>50', '', inplace=True)\n",
    "df['Age'].replace('13 or 18', '15', inplace=True)\n",
    "df['Age'].replace('MAKE LINE GREEN', 'nan', inplace=True)\n",
    "df['Age'].replace('', 'nan', inplace=True)\n",
    "df['Age'].replace('Teen', 'nan', inplace=True)\n",
    "df['Age'].replace('teen', 'nan', inplace=True)\n",
    "df['Age'].replace('X', 'nan', inplace=True)\n",
    "df['Age'].replace('9 month', '0.75', inplace=True)\n",
    "df['Age'].replace('2½', '2', inplace=True)\n",
    "df['Age'].replace('18 month', '1', inplace=True)\n",
    "df['Age'].replace('Teens', 'nan', inplace=True)\n",
    "df['Age'].replace('31 or 33', '32', inplace=True)\n",
    "df['Age'].replace('a minor', 'nan', inplace=True)\n",
    "df['Age'].replace('7 or 8', '8', inplace=True)\n",
    "df['Age'].replace('M', 'nan', inplace=True)\n",
    "df['Age'].replace('F', 'nan', inplace=True)\n",
    "df['Age'].replace('young', 'nan', inplace=True)\n",
    "df['Age'].replace('Both 11', '11', inplace=True)\n",
    "df['Age'].replace('13 or 14', '13', inplace=True)\n",
    "df['Age'].replace('12 or 13', '13', inplace=True)\n",
    "df['Age'].replace('18 to 22', '20', inplace=True)\n",
    "df['Age'].replace('16 to 18', '17', inplace=True)\n",
    "df['Age'].replace('middle-age', 'nan', inplace=True)\n",
    "df['Age'].replace('8 or 10', '9', inplace=True)\n",
    "df['Age'].replace('25 to 35', '30', inplace=True)\n",
    "df['Age'].replace('10 or 12', '11', inplace=True)"
   ]
  },
  {
   "cell_type": "code",
   "execution_count": 19,
   "metadata": {},
   "outputs": [
    {
     "data": {
      "text/plain": [
       "0       40.0\n",
       "1       42.0\n",
       "2       12.0\n",
       "3        9.0\n",
       "4       10.0\n",
       "        ... \n",
       "6835     NaN\n",
       "6836     NaN\n",
       "6837     NaN\n",
       "6838     NaN\n",
       "6839     NaN\n",
       "Name: Age, Length: 6840, dtype: float64"
      ]
     },
     "execution_count": 19,
     "metadata": {},
     "output_type": "execute_result"
    }
   ],
   "source": [
    "df['Age'].astype(float)"
   ]
  },
  {
   "attachments": {},
   "cell_type": "markdown",
   "metadata": {},
   "source": [
    "<h2> Coluna Fatal: </h2>"
   ]
  },
  {
   "cell_type": "code",
   "execution_count": 20,
   "metadata": {},
   "outputs": [],
   "source": [
    "df.rename(columns={'Fatal (Y/N)': 'Fatal'}, inplace=True)"
   ]
  },
  {
   "cell_type": "code",
   "execution_count": 21,
   "metadata": {},
   "outputs": [
    {
     "data": {
      "text/plain": [
       "array(['N', 'Y', 'UNKNOWN', 'n', 'F', 'Nq', 'Y x 2', '2017.0', 'y'],\n",
       "      dtype=object)"
      ]
     },
     "execution_count": 21,
     "metadata": {},
     "output_type": "execute_result"
    }
   ],
   "source": [
    "df['Fatal'].unique()"
   ]
  },
  {
   "cell_type": "code",
   "execution_count": 22,
   "metadata": {},
   "outputs": [],
   "source": [
    "df['Fatal'].replace('n', 'N', inplace=True)\n",
    "df['Fatal'].replace('F', 'Y', inplace=True)\n",
    "df['Fatal'].replace('Nq', 'N', inplace=True)\n",
    "df['Fatal'].replace('Y x 2', 'Y', inplace=True)\n",
    "df['Fatal'].replace('2017.0', 'UNKNOWN', inplace=True)\n",
    "df['Fatal'].replace('y', 'Y', inplace=True)"
   ]
  },
  {
   "attachments": {},
   "cell_type": "markdown",
   "metadata": {},
   "source": [
    "<h2>Coluna Species: </h2>"
   ]
  },
  {
   "cell_type": "code",
   "execution_count": 23,
   "metadata": {},
   "outputs": [],
   "source": [
    "df['Species'] = df['Species'].str.upper()"
   ]
  },
  {
   "cell_type": "code",
   "execution_count": 24,
   "metadata": {},
   "outputs": [],
   "source": [
    "df['Species'].replace('SHARK INVOLVEMENT PRIOR TO DEATH WAS NOT CONFIRMED', 'SHARK INVOLVEMENT NOT CONFIRMED', inplace=True)\n",
    "df['Species'].replace('INVALID', 'SHARK INVOLVEMENT NOT CONFIRMED', inplace=True)\n",
    "df['Species'].replace('SHARK INVOLVEMENT PRIOR TO DEATHS UNCONFIRMED', 'SHARK INVOLVEMENT NOT CONFIRMED', inplace=True)\n",
    "df['Species'].replace('SHARK INVOLVEMENT PRIOR TO DEATH UNCONFIRMED', 'SHARK INVOLVEMENT NOT CONFIRMED', inplace=True)\n",
    "df['Species'].replace('SHARK INVOLVEMENT PRIOR TO DEATH NOT CONFIRMED', 'SHARK INVOLVEMENT NOT CONFIRMED', inplace=True)\n",
    "df['Species'].replace('NO SHARK INVOLVEMENT', 'SHARK INVOLVEMENT NOT CONFIRMED', inplace=True)\n",
    "df['Species'].replace('INJURY BELIEVED CAUSED BY AN EEL, NOT A SHARK', 'SHARK INVOLVEMENT NOT CONFIRMED', inplace=True)\n"
   ]
  },
  {
   "attachments": {},
   "cell_type": "markdown",
   "metadata": {},
   "source": [
    "<h1> Estatísticas </h1>"
   ]
  },
  {
   "attachments": {},
   "cell_type": "markdown",
   "metadata": {},
   "source": [
    "<p>Número de ataques totais? </p>"
   ]
  },
  {
   "cell_type": "code",
   "execution_count": 25,
   "metadata": {},
   "outputs": [
    {
     "data": {
      "text/plain": [
       "(6840, 14)"
      ]
     },
     "execution_count": 25,
     "metadata": {},
     "output_type": "execute_result"
    }
   ],
   "source": [
    "df.shape"
   ]
  },
  {
   "attachments": {},
   "cell_type": "markdown",
   "metadata": {},
   "source": [
    "<p>Ataques provocados: 5010  e   Ataques não-provocados: 628</p>"
   ]
  },
  {
   "cell_type": "code",
   "execution_count": 26,
   "metadata": {},
   "outputs": [
    {
     "data": {
      "text/plain": [
       "Unprovoked      5010\n",
       "Provoked         628\n",
       "Invalid          575\n",
       "Watercraft       363\n",
       "Sea Disaster     242\n",
       "Name: Type, dtype: int64"
      ]
     },
     "execution_count": 26,
     "metadata": {},
     "output_type": "execute_result"
    }
   ],
   "source": [
    "df['Type'].value_counts()"
   ]
  },
  {
   "attachments": {},
   "cell_type": "markdown",
   "metadata": {},
   "source": [
    "<p>Ataques Fatais: 1447  e  Ataques Não-fatais: 4756  </p>"
   ]
  },
  {
   "cell_type": "code",
   "execution_count": 27,
   "metadata": {},
   "outputs": [
    {
     "data": {
      "text/plain": [
       "N          4756\n",
       "Y          1447\n",
       "UNKNOWN     637\n",
       "Name: Fatal, dtype: int64"
      ]
     },
     "execution_count": 27,
     "metadata": {},
     "output_type": "execute_result"
    }
   ],
   "source": [
    "df['Fatal'].value_counts()"
   ]
  },
  {
   "attachments": {},
   "cell_type": "markdown",
   "metadata": {},
   "source": [
    "<p>Vítimas homens:5516 e           Vítimas mulheres: 753</p>"
   ]
  },
  {
   "cell_type": "code",
   "execution_count": 28,
   "metadata": {},
   "outputs": [
    {
     "data": {
      "text/plain": [
       "M    5516\n",
       "F     753\n",
       "        1\n",
       "Name: Sex, dtype: int64"
      ]
     },
     "execution_count": 28,
     "metadata": {},
     "output_type": "execute_result"
    }
   ],
   "source": [
    "df['Sex'].value_counts()"
   ]
  },
  {
   "attachments": {},
   "cell_type": "markdown",
   "metadata": {},
   "source": [
    "<p>Meses que mais ocorreram ataques: Janeiro(853), Julho(741), Agosto(650) </p>"
   ]
  },
  {
   "cell_type": "code",
   "execution_count": 29,
   "metadata": {},
   "outputs": [
    {
     "data": {
      "text/plain": [
       "January      853\n",
       "July         741\n",
       "August       650\n",
       "September    596\n",
       "June         540\n",
       "October      487\n",
       "April        482\n",
       "December     471\n",
       "March        441\n",
       "November     437\n",
       "May          427\n",
       "February     404\n",
       "Name: Date, dtype: int64"
      ]
     },
     "execution_count": 29,
     "metadata": {},
     "output_type": "execute_result"
    }
   ],
   "source": [
    "df['Date'].dt.month_name().value_counts()"
   ]
  },
  {
   "cell_type": "code",
   "execution_count": 30,
   "metadata": {},
   "outputs": [
    {
     "data": {
      "image/png": "[encoded data removed]",
      "text/plain": [
       "<Figure size 500x500 with 1 Axes>"
      ]
     },
     "metadata": {},
     "output_type": "display_data"
    }
   ],
   "source": [
    "fig = sns.displot(data = df, x = df['Date'].dt.month_name())\n",
    "plt.xticks(rotation = 50)\n",
    "plt.grid(axis='x')"
   ]
  },
  {
   "attachments": {},
   "cell_type": "markdown",
   "metadata": {},
   "source": [
    "<p>Dias da semana que mais ocorreram ataques: Domingo, Sábado e Segunda </p>"
   ]
  },
  {
   "cell_type": "code",
   "execution_count": 31,
   "metadata": {},
   "outputs": [
    {
     "data": {
      "text/plain": [
       "Sunday       1174\n",
       "Saturday     1162\n",
       "Monday        845\n",
       "Wednesday     842\n",
       "Tuesday       839\n",
       "Thursday      837\n",
       "Friday        830\n",
       "Name: Date, dtype: int64"
      ]
     },
     "execution_count": 31,
     "metadata": {},
     "output_type": "execute_result"
    }
   ],
   "source": [
    "df['Date'].dt.day_name().value_counts()"
   ]
  },
  {
   "cell_type": "code",
   "execution_count": 32,
   "metadata": {},
   "outputs": [
    {
     "data": {
      "image/png": "[encoded data removed]",
      "text/plain": [
       "<Figure size 500x500 with 1 Axes>"
      ]
     },
     "metadata": {},
     "output_type": "display_data"
    }
   ],
   "source": [
    "fig = sns.displot(data = df, x = df['Date'].dt.day_name())\n",
    "plt.xticks(rotation = 50)\n",
    "plt.grid(axis='x')"
   ]
  },
  {
   "attachments": {},
   "cell_type": "markdown",
   "metadata": {},
   "source": [
    "<p>Atividade mais presente: Surfando, nadando e pescando</p>"
   ]
  },
  {
   "cell_type": "code",
   "execution_count": 33,
   "metadata": {},
   "outputs": [
    {
     "data": {
      "text/plain": [
       "Surfing                                                                                 1100\n",
       "Swimming                                                                                 990\n",
       "Fishing                                                                                  497\n",
       "Spearfishing                                                                             380\n",
       "Wading                                                                                   168\n",
       "                                                                                        ... \n",
       "Inebriated, woke from sleep and fell off deck into the water                               1\n",
       "Swimming to shore from capsized sailboat                                                   1\n",
       "Tzenny Chandris, a Greek freighter laden with scrap iron, foundered in heavy weather       1\n",
       "male                                                                                       1\n",
       "Free diving for sponges                                                                    1\n",
       "Name: Activity, Length: 1546, dtype: int64"
      ]
     },
     "execution_count": 33,
     "metadata": {},
     "output_type": "execute_result"
    }
   ],
   "source": [
    "df['Activity'].value_counts()"
   ]
  },
  {
   "attachments": {},
   "cell_type": "markdown",
   "metadata": {},
   "source": [
    "<p>Idade mínima das vítimas: 2 meses     e        Idade máxima das vítimas: 87      e     Média das idades das vítimas: 24 </p>"
   ]
  },
  {
   "cell_type": "code",
   "execution_count": 34,
   "metadata": {},
   "outputs": [
    {
     "data": {
      "text/plain": [
       "24.0"
      ]
     },
     "execution_count": 34,
     "metadata": {},
     "output_type": "execute_result"
    }
   ],
   "source": [
    "df['Age'].median()"
   ]
  },
  {
   "cell_type": "code",
   "execution_count": 35,
   "metadata": {},
   "outputs": [
    {
     "data": {
      "text/plain": [
       "array([40, 42, 12, 9, 10, 26, 38, nan, 54, 17, 22, 55, 29, 14, 30, 69, 20,\n",
       "       11, 35, 23, 59, 31, 18, 15, 44, '20', 24, 32, 6, 39, 50, 21, 66,\n",
       "       52, 48, 33, 28, 8, 46, 45, 47, 73, 27, 5, 25, 13, 7, 19, 36, 62,\n",
       "       49, 'nan', '50', 53, 57, 16, 43, 58, 71, 60, 37, 61, '2', 64, 56,\n",
       "       34, 41, '1', 51, 87, 65, '60', 68, 75, 63, 3, 67, 70, 1, '30',\n",
       "       '0.75', '32', 77, '8', '40', 72, '11', '13', '6', '35', 78, 74, 86,\n",
       "       '0.3', '33', '23', 82, '15', 4, '17', '9', '10', '19', '26', 84,\n",
       "       81], dtype=object)"
      ]
     },
     "execution_count": 35,
     "metadata": {},
     "output_type": "execute_result"
    }
   ],
   "source": [
    "df['Age'].unique()"
   ]
  },
  {
   "attachments": {},
   "cell_type": "markdown",
   "metadata": {},
   "source": [
    "<p>5 países que mais sofrem ataques: USA(2494), Australia(1460), south africa(594), nova zelandia(143)</p>"
   ]
  },
  {
   "cell_type": "code",
   "execution_count": 36,
   "metadata": {},
   "outputs": [
    {
     "name": "stdout",
     "output_type": "stream",
     "text": [
      "USA                          2494\n",
      "AUSTRALIA                    1460\n",
      "SOUTH AFRICA                  594\n",
      "NEW ZEALAND                   143\n",
      "PAPUA NEW GUINEA              136\n",
      "                             ... \n",
      "JORDAN                          1\n",
      "SOLOMON ISLANDS / VANUATU       1\n",
      "GABON                           1\n",
      "BRITISH WEST INDIES             1\n",
      "BAHREIN                         1\n",
      "Name: Country, Length: 204, dtype: int64\n"
     ]
    }
   ],
   "source": [
    "paises = df['Country'].value_counts()\n",
    "print(paises)"
   ]
  },
  {
   "attachments": {},
   "cell_type": "markdown",
   "metadata": {},
   "source": [
    "<h2>Análise Brasil: </h2>"
   ]
  },
  {
   "cell_type": "code",
   "execution_count": 37,
   "metadata": {},
   "outputs": [],
   "source": [
    "brasil = [\"BRAZIL\"]"
   ]
  },
  {
   "cell_type": "code",
   "execution_count": 38,
   "metadata": {},
   "outputs": [],
   "source": [
    "filtro_brasil = df['Country'].isin(brasil)"
   ]
  },
  {
   "cell_type": "code",
   "execution_count": 39,
   "metadata": {},
   "outputs": [
    {
     "data": {
      "text/html": [
       "<div>\n",
       "<style scoped>\n",
       "    .dataframe tbody tr th:only-of-type {\n",
       "        vertical-align: middle;\n",
       "    }\n",
       "\n",
       "    .dataframe tbody tr th {\n",
       "        vertical-align: top;\n",
       "    }\n",
       "\n",
       "    .dataframe thead th {\n",
       "        text-align: right;\n",
       "    }\n",
       "</style>\n",
       "<table border=\"1\" class=\"dataframe\">\n",
       "  <thead>\n",
       "    <tr style=\"text-align: right;\">\n",
       "      <th></th>\n",
       "      <th>Date</th>\n",
       "      <th>Type</th>\n",
       "      <th>Country</th>\n",
       "      <th>Area</th>\n",
       "      <th>Location</th>\n",
       "      <th>Activity</th>\n",
       "      <th>Name</th>\n",
       "      <th>Sex</th>\n",
       "      <th>Age</th>\n",
       "      <th>Injury</th>\n",
       "      <th>Fatal</th>\n",
       "      <th>Time</th>\n",
       "      <th>Species</th>\n",
       "      <th>Investigator or Source</th>\n",
       "    </tr>\n",
       "  </thead>\n",
       "  <tbody>\n",
       "    <tr>\n",
       "      <th>74</th>\n",
       "      <td>2006-05-21</td>\n",
       "      <td>Unprovoked</td>\n",
       "      <td>BRAZIL</td>\n",
       "      <td>Pernambuco</td>\n",
       "      <td>Boa Viagem Beach, Recife</td>\n",
       "      <td>Surfing</td>\n",
       "      <td>Rogério Antônio de Carvalho</td>\n",
       "      <td>M</td>\n",
       "      <td>33</td>\n",
       "      <td>Injuries to left thigh, calf &amp; foot</td>\n",
       "      <td>N</td>\n",
       "      <td>11h30</td>\n",
       "      <td>NaN</td>\n",
       "      <td>Avisa Nordland, 5/22/2006</td>\n",
       "    </tr>\n",
       "    <tr>\n",
       "      <th>104</th>\n",
       "      <td>1998-07-26</td>\n",
       "      <td>Unprovoked</td>\n",
       "      <td>BRAZIL</td>\n",
       "      <td>Pernambuco</td>\n",
       "      <td>Boa Viagem, Recife</td>\n",
       "      <td>Surfing</td>\n",
       "      <td>Rodrigo Rocha Menezes</td>\n",
       "      <td>M</td>\n",
       "      <td>NaN</td>\n",
       "      <td>Lacerations to left foot</td>\n",
       "      <td>N</td>\n",
       "      <td>17h30</td>\n",
       "      <td>NaN</td>\n",
       "      <td>JCOnline</td>\n",
       "    </tr>\n",
       "    <tr>\n",
       "      <th>108</th>\n",
       "      <td>1997-07-17</td>\n",
       "      <td>Unprovoked</td>\n",
       "      <td>BRAZIL</td>\n",
       "      <td>Pernambuco</td>\n",
       "      <td>Boa Viagem, Recife</td>\n",
       "      <td>Surfing</td>\n",
       "      <td>José Roberto Paraizo de Albuquerque</td>\n",
       "      <td>M</td>\n",
       "      <td>NaN</td>\n",
       "      <td>Survived</td>\n",
       "      <td>N</td>\n",
       "      <td>NaN</td>\n",
       "      <td>NaN</td>\n",
       "      <td>JCOnline</td>\n",
       "    </tr>\n",
       "    <tr>\n",
       "      <th>109</th>\n",
       "      <td>1997-07-02</td>\n",
       "      <td>Unprovoked</td>\n",
       "      <td>BRAZIL</td>\n",
       "      <td>Pernambuco</td>\n",
       "      <td>Paiva</td>\n",
       "      <td>Surfing</td>\n",
       "      <td>Jurandir Amorim Silva</td>\n",
       "      <td>NaN</td>\n",
       "      <td>NaN</td>\n",
       "      <td>Right thigh bitten</td>\n",
       "      <td>N</td>\n",
       "      <td>NaN</td>\n",
       "      <td>NaN</td>\n",
       "      <td>D. Duarte; Globo, 7/2/1997</td>\n",
       "    </tr>\n",
       "    <tr>\n",
       "      <th>216</th>\n",
       "      <td>1884-04-28</td>\n",
       "      <td>Unprovoked</td>\n",
       "      <td>BRAZIL</td>\n",
       "      <td>NaN</td>\n",
       "      <td>Bahia</td>\n",
       "      <td>Fell overboard from the steamship Chala</td>\n",
       "      <td></td>\n",
       "      <td>M</td>\n",
       "      <td>NaN</td>\n",
       "      <td>FATAL</td>\n",
       "      <td>Y</td>\n",
       "      <td>NaN</td>\n",
       "      <td>NaN</td>\n",
       "      <td>Pittsburgh Post Gazette, 4/28/1884</td>\n",
       "    </tr>\n",
       "  </tbody>\n",
       "</table>\n",
       "</div>"
      ],
      "text/plain": [
       "          Date        Type Country        Area                  Location  \\\n",
       "74  2006-05-21  Unprovoked  BRAZIL  Pernambuco  Boa Viagem Beach, Recife   \n",
       "104 1998-07-26  Unprovoked  BRAZIL  Pernambuco        Boa Viagem, Recife   \n",
       "108 1997-07-17  Unprovoked  BRAZIL  Pernambuco        Boa Viagem, Recife   \n",
       "109 1997-07-02  Unprovoked  BRAZIL  Pernambuco                     Paiva   \n",
       "216 1884-04-28  Unprovoked  BRAZIL         NaN                     Bahia   \n",
       "\n",
       "                                    Activity  \\\n",
       "74                                   Surfing   \n",
       "104                                  Surfing   \n",
       "108                                  Surfing   \n",
       "109                                  Surfing   \n",
       "216  Fell overboard from the steamship Chala   \n",
       "\n",
       "                                    Name  Sex  Age  \\\n",
       "74           Rogério Antônio de Carvalho    M   33   \n",
       "104                Rodrigo Rocha Menezes    M  NaN   \n",
       "108  José Roberto Paraizo de Albuquerque    M  NaN   \n",
       "109                Jurandir Amorim Silva  NaN  NaN   \n",
       "216                                         M  NaN   \n",
       "\n",
       "                                  Injury Fatal   Time Species  \\\n",
       "74   Injuries to left thigh, calf & foot     N  11h30     NaN   \n",
       "104             Lacerations to left foot     N  17h30     NaN   \n",
       "108                             Survived     N    NaN     NaN   \n",
       "109                   Right thigh bitten     N    NaN     NaN   \n",
       "216                                FATAL     Y    NaN     NaN   \n",
       "\n",
       "                 Investigator or Source  \n",
       "74            Avisa Nordland, 5/22/2006  \n",
       "104                            JCOnline  \n",
       "108                            JCOnline  \n",
       "109          D. Duarte; Globo, 7/2/1997  \n",
       "216  Pittsburgh Post Gazette, 4/28/1884  "
      ]
     },
     "execution_count": 39,
     "metadata": {},
     "output_type": "execute_result"
    }
   ],
   "source": [
    "df[filtro_brasil].head(5)"
   ]
  },
  {
   "cell_type": "code",
   "execution_count": 40,
   "metadata": {},
   "outputs": [
    {
     "data": {
      "text/plain": [
       "(119, 14)"
      ]
     },
     "execution_count": 40,
     "metadata": {},
     "output_type": "execute_result"
    }
   ],
   "source": [
    "df[filtro_brasil].shape"
   ]
  },
  {
   "cell_type": "code",
   "execution_count": 41,
   "metadata": {},
   "outputs": [
    {
     "data": {
      "text/plain": [
       "N          69\n",
       "Y          39\n",
       "UNKNOWN    11\n",
       "Name: Fatal, dtype: int64"
      ]
     },
     "execution_count": 41,
     "metadata": {},
     "output_type": "execute_result"
    }
   ],
   "source": [
    "df.loc[filtro_brasil, \"Fatal\"].value_counts()"
   ]
  },
  {
   "cell_type": "code",
   "execution_count": 42,
   "metadata": {},
   "outputs": [
    {
     "data": {
      "text/plain": [
       "Pernambuco              77\n",
       "Rio de Janeiro          11\n",
       "Maranhão                 5\n",
       "Bahia                    3\n",
       "Fernando de Noronha      3\n",
       "Rio Grande de Norte      2\n",
       "Alagoas                  2\n",
       "São Paulo.               2\n",
       "Porto Seguro             1\n",
       "Paraiba                  1\n",
       "Boi Island, Victoria     1\n",
       "Santa Catarina State     1\n",
       "Rio Grande Do Sul        1\n",
       "Balneário Camboriú       1\n",
       "Name: Area, dtype: int64"
      ]
     },
     "execution_count": 42,
     "metadata": {},
     "output_type": "execute_result"
    }
   ],
   "source": [
    "df.loc[filtro_brasil, \"Area\"].value_counts()"
   ]
  },
  {
   "cell_type": "code",
   "execution_count": 43,
   "metadata": {},
   "outputs": [
    {
     "data": {
      "text/plain": [
       "Unprovoked      98\n",
       "Invalid         10\n",
       "Provoked         6\n",
       "Sea Disaster     5\n",
       "Name: Type, dtype: int64"
      ]
     },
     "execution_count": 43,
     "metadata": {},
     "output_type": "execute_result"
    }
   ],
   "source": [
    "df.loc[filtro_brasil, \"Type\"].value_counts()"
   ]
  },
  {
   "cell_type": "code",
   "execution_count": 44,
   "metadata": {},
   "outputs": [
    {
     "data": {
      "text/plain": [
       "July         15\n",
       "April        13\n",
       "March        13\n",
       "June         12\n",
       "January      11\n",
       "October      10\n",
       "December      9\n",
       "February      9\n",
       "May           8\n",
       "September     8\n",
       "November      5\n",
       "August        4\n",
       "Name: Date, dtype: int64"
      ]
     },
     "execution_count": 44,
     "metadata": {},
     "output_type": "execute_result"
    }
   ],
   "source": [
    "df.loc[filtro_brasil, \"Date\"].dt.month_name().value_counts()"
   ]
  },
  {
   "cell_type": "code",
   "execution_count": 45,
   "metadata": {},
   "outputs": [
    {
     "data": {
      "text/plain": [
       "SHARK INVOLVEMENT NOT CONFIRMED                    10\n",
       "BULL SHARK                                          4\n",
       "BULL OR TIGER SHARK                                 3\n",
       "TIGER SHARK, 1.5 M                                  2\n",
       "LEMON SHARK PUP                                     2\n",
       "SANDTIGER SHARK                                     2\n",
       "TIGER SHARK                                         2\n",
       "2 M SHARK                                           2\n",
       "WHITE SHARK                                         1\n",
       "170-KG, 2.8 M SHARK                                 1\n",
       "2.27 M SHARK                                        1\n",
       "LEMON SHARK                                         1\n",
       "THOUGHT TO INVOLVE A JUVENILE HAMMERHEAD SHARK      1\n",
       "POSSIBLY A BULL SHARK OR TIGER SHARK                1\n",
       "DOGFISH                                             1\n",
       "TIGER SHARK, 2.5 M [8.25']                          1\n",
       "THOUGH TO INVOLVE A WHITE SHARK                     1\n",
       "3.7M  TO 4.2 M WHITE SHARK                          1\n",
       "1.3 TO 1.6 M SHARK                                  1\n",
       "THOUGHT TO INVOLVE A WHITE, BULL OR TIGER SHARK     1\n",
       "SMALL SHARK                                         1\n",
       "Name: Species, dtype: int64"
      ]
     },
     "execution_count": 45,
     "metadata": {},
     "output_type": "execute_result"
    }
   ],
   "source": [
    "df.loc[filtro_brasil, \"Species\"].value_counts()"
   ]
  },
  {
   "attachments": {},
   "cell_type": "markdown",
   "metadata": {},
   "source": [
    "<h2> Analise USA: </h2>"
   ]
  },
  {
   "cell_type": "code",
   "execution_count": 46,
   "metadata": {},
   "outputs": [],
   "source": [
    "usa = [\"USA\"]"
   ]
  },
  {
   "cell_type": "code",
   "execution_count": 47,
   "metadata": {},
   "outputs": [],
   "source": [
    "filtro_usa = df['Country'].isin(usa)"
   ]
  },
  {
   "cell_type": "code",
   "execution_count": 48,
   "metadata": {},
   "outputs": [
    {
     "data": {
      "text/html": [
       "<div>\n",
       "<style scoped>\n",
       "    .dataframe tbody tr th:only-of-type {\n",
       "        vertical-align: middle;\n",
       "    }\n",
       "\n",
       "    .dataframe tbody tr th {\n",
       "        vertical-align: top;\n",
       "    }\n",
       "\n",
       "    .dataframe thead th {\n",
       "        text-align: right;\n",
       "    }\n",
       "</style>\n",
       "<table border=\"1\" class=\"dataframe\">\n",
       "  <thead>\n",
       "    <tr style=\"text-align: right;\">\n",
       "      <th></th>\n",
       "      <th>Date</th>\n",
       "      <th>Type</th>\n",
       "      <th>Country</th>\n",
       "      <th>Area</th>\n",
       "      <th>Location</th>\n",
       "      <th>Activity</th>\n",
       "      <th>Name</th>\n",
       "      <th>Sex</th>\n",
       "      <th>Age</th>\n",
       "      <th>Injury</th>\n",
       "      <th>Fatal</th>\n",
       "      <th>Time</th>\n",
       "      <th>Species</th>\n",
       "      <th>Investigator or Source</th>\n",
       "    </tr>\n",
       "  </thead>\n",
       "  <tbody>\n",
       "    <tr>\n",
       "      <th>0</th>\n",
       "      <td>2022-07-16</td>\n",
       "      <td>Unprovoked</td>\n",
       "      <td>USA</td>\n",
       "      <td>Florida</td>\n",
       "      <td>Daytona Beach Shores, Volusia County</td>\n",
       "      <td>NaN</td>\n",
       "      <td>Tasa Summers</td>\n",
       "      <td>F</td>\n",
       "      <td>40</td>\n",
       "      <td>Minor lacerations to left calf</td>\n",
       "      <td>N</td>\n",
       "      <td>13h12</td>\n",
       "      <td>A SMALL SHARK</td>\n",
       "      <td>WESH, 717,2022</td>\n",
       "    </tr>\n",
       "    <tr>\n",
       "      <th>1</th>\n",
       "      <td>2022-01-06</td>\n",
       "      <td>Unprovoked</td>\n",
       "      <td>USA</td>\n",
       "      <td>Florida</td>\n",
       "      <td>Anna Maria Island, Manatee County</td>\n",
       "      <td>Wing Foil Surfing</td>\n",
       "      <td>Erika Lane</td>\n",
       "      <td>F</td>\n",
       "      <td>42</td>\n",
       "      <td>Punctures to leg</td>\n",
       "      <td>N</td>\n",
       "      <td>14h45</td>\n",
       "      <td>BLACKTIP OR SPINNER SHARK</td>\n",
       "      <td>ABC.net</td>\n",
       "    </tr>\n",
       "    <tr>\n",
       "      <th>2</th>\n",
       "      <td>2021-08-02</td>\n",
       "      <td>Unprovoked</td>\n",
       "      <td>USA</td>\n",
       "      <td>Maryland</td>\n",
       "      <td>Ocean City, Worcester County</td>\n",
       "      <td>Swimming</td>\n",
       "      <td>Jordan Prushinski</td>\n",
       "      <td>F</td>\n",
       "      <td>12</td>\n",
       "      <td>Lacerations and puncture wounds to lower left leg</td>\n",
       "      <td>N</td>\n",
       "      <td>15h00</td>\n",
       "      <td>BLACKTIP SHARK</td>\n",
       "      <td>J. Marchand. GSAF</td>\n",
       "    </tr>\n",
       "    <tr>\n",
       "      <th>3</th>\n",
       "      <td>2021-07-10</td>\n",
       "      <td>Unprovoked</td>\n",
       "      <td>USA</td>\n",
       "      <td>Florida</td>\n",
       "      <td>Bathtub Beach, Martin County</td>\n",
       "      <td>Playing</td>\n",
       "      <td>Amiya Lobb-Smith</td>\n",
       "      <td>F</td>\n",
       "      <td>9</td>\n",
       "      <td>Right foot bitten</td>\n",
       "      <td>N</td>\n",
       "      <td>16h39</td>\n",
       "      <td>SPINNER SHARK, 4'?</td>\n",
       "      <td>J. Marchand, GSAF</td>\n",
       "    </tr>\n",
       "    <tr>\n",
       "      <th>5</th>\n",
       "      <td>2021-05-23</td>\n",
       "      <td>Unprovoked</td>\n",
       "      <td>USA</td>\n",
       "      <td>South Carolina</td>\n",
       "      <td>Burkes Beach, Hilton Head, Beaufort County</td>\n",
       "      <td>Swimming</td>\n",
       "      <td>Wyatt Bowman</td>\n",
       "      <td>M</td>\n",
       "      <td>26</td>\n",
       "      <td>Minor injuries to foot and ankle</td>\n",
       "      <td>N</td>\n",
       "      <td>NaN</td>\n",
       "      <td>5' SHARK</td>\n",
       "      <td>K. McMurray, TrackingSharks.com</td>\n",
       "    </tr>\n",
       "  </tbody>\n",
       "</table>\n",
       "</div>"
      ],
      "text/plain": [
       "        Date        Type Country            Area  \\\n",
       "0 2022-07-16  Unprovoked     USA         Florida   \n",
       "1 2022-01-06  Unprovoked     USA         Florida   \n",
       "2 2021-08-02  Unprovoked     USA        Maryland   \n",
       "3 2021-07-10  Unprovoked     USA         Florida   \n",
       "5 2021-05-23  Unprovoked     USA  South Carolina   \n",
       "\n",
       "                                     Location           Activity  \\\n",
       "0        Daytona Beach Shores, Volusia County                NaN   \n",
       "1           Anna Maria Island, Manatee County  Wing Foil Surfing   \n",
       "2                Ocean City, Worcester County           Swimming   \n",
       "3                Bathtub Beach, Martin County            Playing   \n",
       "5  Burkes Beach, Hilton Head, Beaufort County           Swimming   \n",
       "\n",
       "                Name Sex Age  \\\n",
       "0       Tasa Summers   F  40   \n",
       "1         Erika Lane   F  42   \n",
       "2  Jordan Prushinski   F  12   \n",
       "3   Amiya Lobb-Smith   F   9   \n",
       "5       Wyatt Bowman   M  26   \n",
       "\n",
       "                                              Injury Fatal   Time  \\\n",
       "0                     Minor lacerations to left calf     N  13h12   \n",
       "1                                   Punctures to leg     N  14h45   \n",
       "2  Lacerations and puncture wounds to lower left leg     N  15h00   \n",
       "3                                  Right foot bitten     N  16h39   \n",
       "5                   Minor injuries to foot and ankle     N    NaN   \n",
       "\n",
       "                     Species           Investigator or Source  \n",
       "0              A SMALL SHARK                   WESH, 717,2022  \n",
       "1  BLACKTIP OR SPINNER SHARK                          ABC.net  \n",
       "2             BLACKTIP SHARK                J. Marchand. GSAF  \n",
       "3         SPINNER SHARK, 4'?                J. Marchand, GSAF  \n",
       "5                   5' SHARK  K. McMurray, TrackingSharks.com  "
      ]
     },
     "execution_count": 48,
     "metadata": {},
     "output_type": "execute_result"
    }
   ],
   "source": [
    "df[filtro_usa].head(5)"
   ]
  },
  {
   "cell_type": "code",
   "execution_count": 49,
   "metadata": {},
   "outputs": [
    {
     "data": {
      "text/plain": [
       "(2494, 14)"
      ]
     },
     "execution_count": 49,
     "metadata": {},
     "output_type": "execute_result"
    }
   ],
   "source": [
    "df[filtro_usa].shape"
   ]
  },
  {
   "cell_type": "code",
   "execution_count": 50,
   "metadata": {},
   "outputs": [
    {
     "data": {
      "text/plain": [
       "N          2084\n",
       "UNKNOWN     214\n",
       "Y           196\n",
       "Name: Fatal, dtype: int64"
      ]
     },
     "execution_count": 50,
     "metadata": {},
     "output_type": "execute_result"
    }
   ],
   "source": [
    "df.loc[filtro_usa, \"Fatal\"].value_counts()"
   ]
  },
  {
   "cell_type": "code",
   "execution_count": 51,
   "metadata": {},
   "outputs": [
    {
     "data": {
      "text/plain": [
       "Florida                     1157\n",
       "Hawaii                       332\n",
       "California                   324\n",
       "South Carolina               169\n",
       "North Carolina               120\n",
       "Texas                         77\n",
       "New Jersey                    56\n",
       "New York                      42\n",
       "Oregon                        31\n",
       "Virginia                      19\n",
       "Massachusetts                 18\n",
       "Louisiana                     17\n",
       "Georgia                       17\n",
       "Puerto Rico                   17\n",
       "Alabama                       17\n",
       "Maryland                       9\n",
       "Mississippi                    8\n",
       "Delaware                       8\n",
       "Rhode Island                   8\n",
       "Connecticut                    6\n",
       "US Virgin Islands              5\n",
       "Maui                           3\n",
       "Maine                          2\n",
       "Palmyra Atoll                  2\n",
       "Guam                           2\n",
       "East coast                     2\n",
       "Washington                     2\n",
       "Cayman Islands                 1\n",
       "CUBA                           1\n",
       "Illinois                       1\n",
       "Carolina coast                 1\n",
       "Virgin Islands                 1\n",
       "Pennsylvania                   1\n",
       "New Mexico                     1\n",
       "Missouri                       1\n",
       "BAHAMAS                        1\n",
       "Alaska                         1\n",
       "Johnston Atoll                 1\n",
       "Kentucky                       1\n",
       "Bahamas                        1\n",
       "North & South Carolina         1\n",
       "Noirth Carolina                1\n",
       "Franklin County, Florida       1\n",
       "Wake Island                    1\n",
       "Midway Atoll                   1\n",
       "Name: Area, dtype: int64"
      ]
     },
     "execution_count": 51,
     "metadata": {},
     "output_type": "execute_result"
    }
   ],
   "source": [
    "df.loc[filtro_usa, \"Area\"].value_counts()"
   ]
  },
  {
   "cell_type": "code",
   "execution_count": 52,
   "metadata": {},
   "outputs": [
    {
     "data": {
      "text/plain": [
       "Unprovoked      1933\n",
       "Provoked         229\n",
       "Invalid          207\n",
       "Watercraft        82\n",
       "Sea Disaster      35\n",
       "Name: Type, dtype: int64"
      ]
     },
     "execution_count": 52,
     "metadata": {},
     "output_type": "execute_result"
    }
   ],
   "source": [
    "df.loc[filtro_usa, \"Type\"].value_counts()"
   ]
  },
  {
   "cell_type": "code",
   "execution_count": 53,
   "metadata": {},
   "outputs": [
    {
     "data": {
      "text/plain": [
       "July         410\n",
       "August       364\n",
       "September    325\n",
       "June         271\n",
       "October      229\n",
       "April        175\n",
       "May          169\n",
       "November     127\n",
       "January      119\n",
       "March        113\n",
       "December      73\n",
       "February      66\n",
       "Name: Date, dtype: int64"
      ]
     },
     "execution_count": 53,
     "metadata": {},
     "output_type": "execute_result"
    }
   ],
   "source": [
    "df.loc[filtro_usa, \"Date\"].dt.month_name().value_counts()"
   ]
  },
  {
   "cell_type": "code",
   "execution_count": 54,
   "metadata": {},
   "outputs": [
    {
     "data": {
      "text/plain": [
       "SHARK INVOLVEMENT NOT CONFIRMED    157\n",
       "WHITE SHARK                         58\n",
       "4' SHARK                            40\n",
       "TIGER SHARK                         30\n",
       "4' TO 5' SHARK                      25\n",
       "                                  ... \n",
       "4' SPINNER SHARK                     1\n",
       "2.5 M [8.25'] WHITE SHARK            1\n",
       "6' TO 7' BLACKTIP SHARK              1\n",
       ">6 M [20'] WHITE SHARK               1\n",
       "250-LB DOG SHARK                     1\n",
       "Name: Species, Length: 630, dtype: int64"
      ]
     },
     "execution_count": 54,
     "metadata": {},
     "output_type": "execute_result"
    }
   ],
   "source": [
    "df.loc[filtro_usa, \"Species\"].value_counts()"
   ]
  },
  {
   "attachments": {},
   "cell_type": "markdown",
   "metadata": {},
   "source": [
    "<h2>Análise Austrália:</h2>"
   ]
  },
  {
   "cell_type": "code",
   "execution_count": 55,
   "metadata": {},
   "outputs": [],
   "source": [
    "australia = [\"AUSTRALIA\"]"
   ]
  },
  {
   "cell_type": "code",
   "execution_count": 56,
   "metadata": {},
   "outputs": [],
   "source": [
    "filtro_australia = df['Country'].isin(australia)"
   ]
  },
  {
   "cell_type": "code",
   "execution_count": 57,
   "metadata": {},
   "outputs": [
    {
     "data": {
      "text/html": [
       "<div>\n",
       "<style scoped>\n",
       "    .dataframe tbody tr th:only-of-type {\n",
       "        vertical-align: middle;\n",
       "    }\n",
       "\n",
       "    .dataframe tbody tr th {\n",
       "        vertical-align: top;\n",
       "    }\n",
       "\n",
       "    .dataframe thead th {\n",
       "        text-align: right;\n",
       "    }\n",
       "</style>\n",
       "<table border=\"1\" class=\"dataframe\">\n",
       "  <thead>\n",
       "    <tr style=\"text-align: right;\">\n",
       "      <th></th>\n",
       "      <th>Date</th>\n",
       "      <th>Type</th>\n",
       "      <th>Country</th>\n",
       "      <th>Area</th>\n",
       "      <th>Location</th>\n",
       "      <th>Activity</th>\n",
       "      <th>Name</th>\n",
       "      <th>Sex</th>\n",
       "      <th>Age</th>\n",
       "      <th>Injury</th>\n",
       "      <th>Fatal</th>\n",
       "      <th>Time</th>\n",
       "      <th>Species</th>\n",
       "      <th>Investigator or Source</th>\n",
       "    </tr>\n",
       "  </thead>\n",
       "  <tbody>\n",
       "    <tr>\n",
       "      <th>4</th>\n",
       "      <td>2021-06-11</td>\n",
       "      <td>Unprovoked</td>\n",
       "      <td>AUSTRALIA</td>\n",
       "      <td>Western Australia</td>\n",
       "      <td>Five Fingers Reef</td>\n",
       "      <td>Snorkeling</td>\n",
       "      <td>Jackson Bartlett</td>\n",
       "      <td>M</td>\n",
       "      <td>10</td>\n",
       "      <td>Foot bitten</td>\n",
       "      <td>N</td>\n",
       "      <td>11h00</td>\n",
       "      <td>BRONZE WHALER SHARK, 2 M</td>\n",
       "      <td>B. Myatt, GSAF</td>\n",
       "    </tr>\n",
       "    <tr>\n",
       "      <th>8</th>\n",
       "      <td>2021-01-13</td>\n",
       "      <td>Unprovoked</td>\n",
       "      <td>AUSTRALIA</td>\n",
       "      <td>Western Australia</td>\n",
       "      <td>Blackwall Reach</td>\n",
       "      <td>Swimming</td>\n",
       "      <td>Cameron Wrathall</td>\n",
       "      <td>M</td>\n",
       "      <td>54</td>\n",
       "      <td>Severe injury to leg and broken him</td>\n",
       "      <td>N</td>\n",
       "      <td>07h58</td>\n",
       "      <td>BULL SHARK, 6.5 TO 10 '</td>\n",
       "      <td>B. Myatt, GSAF &amp; K. McMurray, TrackingSharks.com</td>\n",
       "    </tr>\n",
       "    <tr>\n",
       "      <th>14</th>\n",
       "      <td>2018-10-08</td>\n",
       "      <td>Provoked</td>\n",
       "      <td>AUSTRALIA</td>\n",
       "      <td>Queensland</td>\n",
       "      <td>Swain Reef</td>\n",
       "      <td>Fishing</td>\n",
       "      <td>Ian Hanson</td>\n",
       "      <td>M</td>\n",
       "      <td>55</td>\n",
       "      <td>Injury to upper left arm by hooked shark PROVO...</td>\n",
       "      <td>N</td>\n",
       "      <td>Afternoon</td>\n",
       "      <td>REEF SHARK</td>\n",
       "      <td>K. McMurray, Tracking Sharks.com</td>\n",
       "    </tr>\n",
       "    <tr>\n",
       "      <th>17</th>\n",
       "      <td>2018-05-09</td>\n",
       "      <td>Invalid</td>\n",
       "      <td>AUSTRALIA</td>\n",
       "      <td>New South Wales</td>\n",
       "      <td>Sharpes Beach, Ballina</td>\n",
       "      <td>Surfing</td>\n",
       "      <td></td>\n",
       "      <td>M</td>\n",
       "      <td>NaN</td>\n",
       "      <td>No injury, surfboard damaged</td>\n",
       "      <td>N</td>\n",
       "      <td>10h30</td>\n",
       "      <td>SHARK INVOLVEMENT NOT CONFIRMED</td>\n",
       "      <td>B. Myatt, GSAF</td>\n",
       "    </tr>\n",
       "    <tr>\n",
       "      <th>19</th>\n",
       "      <td>2018-03-09</td>\n",
       "      <td>Unprovoked</td>\n",
       "      <td>AUSTRALIA</td>\n",
       "      <td>Victoria</td>\n",
       "      <td>Lorne</td>\n",
       "      <td>Swimming</td>\n",
       "      <td>Rob Crossland</td>\n",
       "      <td>M</td>\n",
       "      <td>69</td>\n",
       "      <td>No injury, said to have been charged by sharks...</td>\n",
       "      <td>N</td>\n",
       "      <td>15h30</td>\n",
       "      <td>3.5 M SHARK</td>\n",
       "      <td>B. Myatt, GSAF</td>\n",
       "    </tr>\n",
       "  </tbody>\n",
       "</table>\n",
       "</div>"
      ],
      "text/plain": [
       "         Date        Type    Country               Area  \\\n",
       "4  2021-06-11  Unprovoked  AUSTRALIA  Western Australia   \n",
       "8  2021-01-13  Unprovoked  AUSTRALIA  Western Australia   \n",
       "14 2018-10-08    Provoked  AUSTRALIA         Queensland   \n",
       "17 2018-05-09     Invalid  AUSTRALIA    New South Wales   \n",
       "19 2018-03-09  Unprovoked  AUSTRALIA           Victoria   \n",
       "\n",
       "                  Location    Activity              Name Sex  Age  \\\n",
       "4        Five Fingers Reef  Snorkeling  Jackson Bartlett   M   10   \n",
       "8          Blackwall Reach    Swimming  Cameron Wrathall   M   54   \n",
       "14              Swain Reef     Fishing        Ian Hanson   M   55   \n",
       "17  Sharpes Beach, Ballina     Surfing                     M  NaN   \n",
       "19                   Lorne    Swimming     Rob Crossland   M   69   \n",
       "\n",
       "                                               Injury Fatal       Time  \\\n",
       "4                                         Foot bitten     N      11h00   \n",
       "8                 Severe injury to leg and broken him     N      07h58   \n",
       "14  Injury to upper left arm by hooked shark PROVO...     N  Afternoon   \n",
       "17                       No injury, surfboard damaged     N      10h30   \n",
       "19  No injury, said to have been charged by sharks...     N      15h30   \n",
       "\n",
       "                            Species  \\\n",
       "4          BRONZE WHALER SHARK, 2 M   \n",
       "8           BULL SHARK, 6.5 TO 10 '   \n",
       "14                       REEF SHARK   \n",
       "17  SHARK INVOLVEMENT NOT CONFIRMED   \n",
       "19                      3.5 M SHARK   \n",
       "\n",
       "                              Investigator or Source  \n",
       "4                                     B. Myatt, GSAF  \n",
       "8   B. Myatt, GSAF & K. McMurray, TrackingSharks.com  \n",
       "14                  K. McMurray, Tracking Sharks.com  \n",
       "17                                    B. Myatt, GSAF  \n",
       "19                                    B. Myatt, GSAF  "
      ]
     },
     "execution_count": 57,
     "metadata": {},
     "output_type": "execute_result"
    }
   ],
   "source": [
    "df[filtro_australia].head(5)"
   ]
  },
  {
   "cell_type": "code",
   "execution_count": 58,
   "metadata": {},
   "outputs": [
    {
     "data": {
      "text/plain": [
       "(1460, 14)"
      ]
     },
     "execution_count": 58,
     "metadata": {},
     "output_type": "execute_result"
    }
   ],
   "source": [
    "df[filtro_australia].shape"
   ]
  },
  {
   "cell_type": "code",
   "execution_count": 59,
   "metadata": {},
   "outputs": [
    {
     "data": {
      "text/plain": [
       "N          1021\n",
       "Y           299\n",
       "UNKNOWN     140\n",
       "Name: Fatal, dtype: int64"
      ]
     },
     "execution_count": 59,
     "metadata": {},
     "output_type": "execute_result"
    }
   ],
   "source": [
    "df.loc[filtro_australia, \"Fatal\"].value_counts()"
   ]
  },
  {
   "cell_type": "code",
   "execution_count": 60,
   "metadata": {},
   "outputs": [],
   "source": [
    "df['Area'].replace(\"Westerm Australia\", \"Western Australia\", inplace=True)\n",
    "df['Area'].replace(\"Western  Australia\", \"Western Australia\", inplace=True)"
   ]
  },
  {
   "cell_type": "code",
   "execution_count": 61,
   "metadata": {},
   "outputs": [
    {
     "data": {
      "text/plain": [
       "New South Wales                         522\n",
       "Queensland                              346\n",
       "Western Australia                       225\n",
       "South Australia                         109\n",
       "Victoria                                 98\n",
       "Torres Strait                            72\n",
       "Tasmania                                 44\n",
       "Northern Territory                       27\n",
       "Territory of Cocos (Keeling) Islands      1\n",
       "Norfolk Island                            1\n",
       "Name: Area, dtype: int64"
      ]
     },
     "execution_count": 61,
     "metadata": {},
     "output_type": "execute_result"
    }
   ],
   "source": [
    "df.loc[filtro_australia, \"Area\"].value_counts()"
   ]
  },
  {
   "cell_type": "code",
   "execution_count": 62,
   "metadata": {},
   "outputs": [
    {
     "data": {
      "text/plain": [
       "Unprovoked      1033\n",
       "Provoked         145\n",
       "Watercraft       129\n",
       "Invalid          127\n",
       "Sea Disaster      24\n",
       "Name: Type, dtype: int64"
      ]
     },
     "execution_count": 62,
     "metadata": {},
     "output_type": "execute_result"
    }
   ],
   "source": [
    "df.loc[filtro_australia, \"Type\"].value_counts()"
   ]
  },
  {
   "cell_type": "code",
   "execution_count": 63,
   "metadata": {},
   "outputs": [
    {
     "data": {
      "text/plain": [
       "January      259\n",
       "December     193\n",
       "February     158\n",
       "November     144\n",
       "March        131\n",
       "April        114\n",
       "October      105\n",
       "June          70\n",
       "September     65\n",
       "May           64\n",
       "July          58\n",
       "August        56\n",
       "Name: Date, dtype: int64"
      ]
     },
     "execution_count": 63,
     "metadata": {},
     "output_type": "execute_result"
    }
   ],
   "source": [
    "df.loc[filtro_australia, \"Date\"].dt.month_name().value_counts()"
   ]
  },
  {
   "cell_type": "code",
   "execution_count": 64,
   "metadata": {},
   "outputs": [
    {
     "data": {
      "text/plain": [
       "SHARK INVOLVEMENT NOT CONFIRMED    86\n",
       "WHITE SHARK                        51\n",
       "WOBBEGONG SHARK                    24\n",
       "BULL SHARK                         19\n",
       "A SMALL SHARK                      12\n",
       "                                   ..\n",
       "BLUE WHALER (GALEOLAMNA)            1\n",
       "TIGER SHARK, 2.5 M                  1\n",
       "TIGER SHARK, 2M TO 3M               1\n",
       "DUSKY SHARK, 2M                     1\n",
       "TIGER SHARK, 7'                     1\n",
       "Name: Species, Length: 436, dtype: int64"
      ]
     },
     "execution_count": 64,
     "metadata": {},
     "output_type": "execute_result"
    }
   ],
   "source": [
    "df.loc[filtro_australia, \"Species\"].value_counts()"
   ]
  },
  {
   "attachments": {},
   "cell_type": "markdown",
   "metadata": {},
   "source": [
    "<h2>Análise África do Sul:</h2>"
   ]
  },
  {
   "cell_type": "code",
   "execution_count": 65,
   "metadata": {},
   "outputs": [],
   "source": [
    "africasul = [\"SOUTH AFRICA\"]"
   ]
  },
  {
   "cell_type": "code",
   "execution_count": 66,
   "metadata": {},
   "outputs": [],
   "source": [
    "filtro_africasul = df['Country'].isin(africasul)"
   ]
  },
  {
   "cell_type": "code",
   "execution_count": 67,
   "metadata": {},
   "outputs": [
    {
     "data": {
      "text/html": [
       "<div>\n",
       "<style scoped>\n",
       "    .dataframe tbody tr th:only-of-type {\n",
       "        vertical-align: middle;\n",
       "    }\n",
       "\n",
       "    .dataframe tbody tr th {\n",
       "        vertical-align: top;\n",
       "    }\n",
       "\n",
       "    .dataframe thead th {\n",
       "        text-align: right;\n",
       "    }\n",
       "</style>\n",
       "<table border=\"1\" class=\"dataframe\">\n",
       "  <thead>\n",
       "    <tr style=\"text-align: right;\">\n",
       "      <th></th>\n",
       "      <th>Date</th>\n",
       "      <th>Type</th>\n",
       "      <th>Country</th>\n",
       "      <th>Area</th>\n",
       "      <th>Location</th>\n",
       "      <th>Activity</th>\n",
       "      <th>Name</th>\n",
       "      <th>Sex</th>\n",
       "      <th>Age</th>\n",
       "      <th>Injury</th>\n",
       "      <th>Fatal</th>\n",
       "      <th>Time</th>\n",
       "      <th>Species</th>\n",
       "      <th>Investigator or Source</th>\n",
       "    </tr>\n",
       "  </thead>\n",
       "  <tbody>\n",
       "    <tr>\n",
       "      <th>6</th>\n",
       "      <td>2021-04-14</td>\n",
       "      <td>Unprovoked</td>\n",
       "      <td>SOUTH AFRICA</td>\n",
       "      <td>KwaZulu-Natal</td>\n",
       "      <td>Mdloti</td>\n",
       "      <td>Spearfishing</td>\n",
       "      <td>Jarid Norman</td>\n",
       "      <td>M</td>\n",
       "      <td>38</td>\n",
       "      <td>Minor injury to head</td>\n",
       "      <td>N</td>\n",
       "      <td>Afternoon</td>\n",
       "      <td>1.3M SHARK</td>\n",
       "      <td>M. Michelson, GSAFand K. McMurray, TrackingSha...</td>\n",
       "    </tr>\n",
       "    <tr>\n",
       "      <th>21</th>\n",
       "      <td>2017-04-29</td>\n",
       "      <td>Unprovoked</td>\n",
       "      <td>SOUTH AFRICA</td>\n",
       "      <td>Western Cape Province</td>\n",
       "      <td>Keurbooms, Plettenberg Bay</td>\n",
       "      <td>Surfing</td>\n",
       "      <td></td>\n",
       "      <td>M</td>\n",
       "      <td>14</td>\n",
       "      <td>Minor injury to right calf</td>\n",
       "      <td>N</td>\n",
       "      <td>17h10</td>\n",
       "      <td>NaN</td>\n",
       "      <td>J. de Villiars, News24, 4/29/2017</td>\n",
       "    </tr>\n",
       "    <tr>\n",
       "      <th>33</th>\n",
       "      <td>2015-01-03</td>\n",
       "      <td>Unprovoked</td>\n",
       "      <td>SOUTH AFRICA</td>\n",
       "      <td>Eastern Cape Province</td>\n",
       "      <td>Chintsa East Beach</td>\n",
       "      <td>Surfing</td>\n",
       "      <td>Jason Krafft</td>\n",
       "      <td>M</td>\n",
       "      <td>15</td>\n",
       "      <td>Lacerations to lower left leg, puncture wounds...</td>\n",
       "      <td>N</td>\n",
       "      <td>08h00</td>\n",
       "      <td>RAGGEDTOOTH SHARK, 1.3 M</td>\n",
       "      <td>Dispatch Online, 1/7/2015</td>\n",
       "    </tr>\n",
       "    <tr>\n",
       "      <th>58</th>\n",
       "      <td>2008-12-10</td>\n",
       "      <td>Provoked</td>\n",
       "      <td>SOUTH AFRICA</td>\n",
       "      <td>Western Cape Province</td>\n",
       "      <td>Plettenberg Bay</td>\n",
       "      <td>Fishing</td>\n",
       "      <td>Luke Parker</td>\n",
       "      <td>M</td>\n",
       "      <td>15</td>\n",
       "      <td>Lacerations to knees, thigh and hip by hooked ...</td>\n",
       "      <td>N</td>\n",
       "      <td>20h00</td>\n",
       "      <td>RAGGEDTOOTH SHARK, 2M</td>\n",
       "      <td>The Herald, 12/12/2008</td>\n",
       "    </tr>\n",
       "    <tr>\n",
       "      <th>81</th>\n",
       "      <td>2004-10-30</td>\n",
       "      <td>Unprovoked</td>\n",
       "      <td>SOUTH AFRICA</td>\n",
       "      <td>Western Cape Province</td>\n",
       "      <td>Gansbaai</td>\n",
       "      <td>Chumming for white sharks</td>\n",
       "      <td>Andre Hartman</td>\n",
       "      <td>M</td>\n",
       "      <td>52</td>\n",
       "      <td>Right ankle &amp; foot lacerated</td>\n",
       "      <td>N</td>\n",
       "      <td>Morning</td>\n",
       "      <td>2 M [6.75'] WHITE SHARK</td>\n",
       "      <td>J.P. Botha, GSAF</td>\n",
       "    </tr>\n",
       "  </tbody>\n",
       "</table>\n",
       "</div>"
      ],
      "text/plain": [
       "         Date        Type       Country                   Area  \\\n",
       "6  2021-04-14  Unprovoked  SOUTH AFRICA          KwaZulu-Natal   \n",
       "21 2017-04-29  Unprovoked  SOUTH AFRICA  Western Cape Province   \n",
       "33 2015-01-03  Unprovoked  SOUTH AFRICA  Eastern Cape Province   \n",
       "58 2008-12-10    Provoked  SOUTH AFRICA  Western Cape Province   \n",
       "81 2004-10-30  Unprovoked  SOUTH AFRICA  Western Cape Province   \n",
       "\n",
       "                      Location                   Activity           Name Sex  \\\n",
       "6                       Mdloti               Spearfishing   Jarid Norman   M   \n",
       "21  Keurbooms, Plettenberg Bay                    Surfing                  M   \n",
       "33          Chintsa East Beach                    Surfing   Jason Krafft   M   \n",
       "58             Plettenberg Bay                    Fishing    Luke Parker   M   \n",
       "81                    Gansbaai  Chumming for white sharks  Andre Hartman   M   \n",
       "\n",
       "   Age                                             Injury Fatal       Time  \\\n",
       "6   38                               Minor injury to head     N  Afternoon   \n",
       "21  14                         Minor injury to right calf     N      17h10   \n",
       "33  15  Lacerations to lower left leg, puncture wounds...     N      08h00   \n",
       "58  15  Lacerations to knees, thigh and hip by hooked ...     N      20h00   \n",
       "81  52                       Right ankle & foot lacerated     N    Morning   \n",
       "\n",
       "                     Species  \\\n",
       "6                 1.3M SHARK   \n",
       "21                       NaN   \n",
       "33  RAGGEDTOOTH SHARK, 1.3 M   \n",
       "58     RAGGEDTOOTH SHARK, 2M   \n",
       "81   2 M [6.75'] WHITE SHARK   \n",
       "\n",
       "                               Investigator or Source  \n",
       "6   M. Michelson, GSAFand K. McMurray, TrackingSha...  \n",
       "21                  J. de Villiars, News24, 4/29/2017  \n",
       "33                          Dispatch Online, 1/7/2015  \n",
       "58                             The Herald, 12/12/2008  \n",
       "81                                   J.P. Botha, GSAF  "
      ]
     },
     "execution_count": 67,
     "metadata": {},
     "output_type": "execute_result"
    }
   ],
   "source": [
    "df[filtro_africasul].head(5)"
   ]
  },
  {
   "cell_type": "code",
   "execution_count": 68,
   "metadata": {},
   "outputs": [
    {
     "data": {
      "text/plain": [
       "(594, 14)"
      ]
     },
     "execution_count": 68,
     "metadata": {},
     "output_type": "execute_result"
    }
   ],
   "source": [
    "df[filtro_africasul].shape"
   ]
  },
  {
   "cell_type": "code",
   "execution_count": 69,
   "metadata": {},
   "outputs": [
    {
     "data": {
      "text/plain": [
       "N          419\n",
       "Y          109\n",
       "UNKNOWN     66\n",
       "Name: Fatal, dtype: int64"
      ]
     },
     "execution_count": 69,
     "metadata": {},
     "output_type": "execute_result"
    }
   ],
   "source": [
    "df.loc[filtro_africasul, \"Fatal\"].value_counts()"
   ]
  },
  {
   "cell_type": "code",
   "execution_count": 70,
   "metadata": {},
   "outputs": [
    {
     "data": {
      "text/plain": [
       "KwaZulu-Natal                                          218\n",
       "Western Cape Province                                  198\n",
       "Eastern Cape Province                                  166\n",
       "Western Province                                         1\n",
       "Eastern Cape  Province                                   1\n",
       "Transvaal                                                1\n",
       "Eastern Province                                         1\n",
       "KwaZulu-Natal between Port Edward and Port St Johns      1\n",
       "KZN                                                      1\n",
       "South Atlantic Ocean                                     1\n",
       "Name: Area, dtype: int64"
      ]
     },
     "execution_count": 70,
     "metadata": {},
     "output_type": "execute_result"
    }
   ],
   "source": [
    "df.loc[filtro_africasul, \"Area\"].value_counts()"
   ]
  },
  {
   "cell_type": "code",
   "execution_count": 71,
   "metadata": {},
   "outputs": [
    {
     "data": {
      "text/plain": [
       "Unprovoked      412\n",
       "Invalid          65\n",
       "Provoked         56\n",
       "Watercraft       55\n",
       "Sea Disaster      5\n",
       "Name: Type, dtype: int64"
      ]
     },
     "execution_count": 71,
     "metadata": {},
     "output_type": "execute_result"
    }
   ],
   "source": [
    "df.loc[filtro_africasul, \"Type\"].value_counts()"
   ]
  },
  {
   "cell_type": "code",
   "execution_count": 72,
   "metadata": {},
   "outputs": [
    {
     "data": {
      "text/plain": [
       "January      128\n",
       "December      69\n",
       "February      56\n",
       "March         53\n",
       "April         51\n",
       "July          38\n",
       "May           38\n",
       "November      37\n",
       "October       30\n",
       "June          29\n",
       "August        25\n",
       "September     24\n",
       "Name: Date, dtype: int64"
      ]
     },
     "execution_count": 72,
     "metadata": {},
     "output_type": "execute_result"
    }
   ],
   "source": [
    "df.loc[filtro_africasul, \"Date\"].dt.month_name().value_counts()"
   ]
  },
  {
   "cell_type": "code",
   "execution_count": 73,
   "metadata": {},
   "outputs": [
    {
     "data": {
      "text/plain": [
       "SHARK INVOLVEMENT NOT CONFIRMED                                                                     46\n",
       "WHITE SHARK                                                                                         41\n",
       "RAGGEDTOOTH SHARK                                                                                   14\n",
       "QUESTIONABLE INCIDENT                                                                               11\n",
       "TIGER SHARK                                                                                          5\n",
       "                                                                                                    ..\n",
       "1.5 TO 2.5 M [5' TO 8.25'] COPPER SHARK                                                              1\n",
       "POSSIBLY A WHITE SHARK                                                                               1\n",
       "2 M [6.75'] SHARK                                                                                    1\n",
       "2 M [6'9] ZAMBESI SHARK                                                                              1\n",
       "WHITE SHARK, 12', IDENTITY CONFIRMED BY TOOTH FRAGMENT, WITNESS AND PHOTOGRAPH OF CAPTURED SHARK     1\n",
       "Name: Species, Length: 252, dtype: int64"
      ]
     },
     "execution_count": 73,
     "metadata": {},
     "output_type": "execute_result"
    }
   ],
   "source": [
    "df.loc[filtro_africasul, \"Species\"].value_counts()"
   ]
  },
  {
   "attachments": {},
   "cell_type": "markdown",
   "metadata": {},
   "source": [
    "<h2>Análise Nova Zelândia:</h2>"
   ]
  },
  {
   "cell_type": "code",
   "execution_count": 74,
   "metadata": {},
   "outputs": [],
   "source": [
    "nz = [\"NEW ZEALAND\"]"
   ]
  },
  {
   "cell_type": "code",
   "execution_count": 75,
   "metadata": {},
   "outputs": [],
   "source": [
    "filtro_nz = df['Country'].isin(nz)"
   ]
  },
  {
   "cell_type": "code",
   "execution_count": 76,
   "metadata": {},
   "outputs": [
    {
     "data": {
      "text/html": [
       "<div>\n",
       "<style scoped>\n",
       "    .dataframe tbody tr th:only-of-type {\n",
       "        vertical-align: middle;\n",
       "    }\n",
       "\n",
       "    .dataframe tbody tr th {\n",
       "        vertical-align: top;\n",
       "    }\n",
       "\n",
       "    .dataframe thead th {\n",
       "        text-align: right;\n",
       "    }\n",
       "</style>\n",
       "<table border=\"1\" class=\"dataframe\">\n",
       "  <thead>\n",
       "    <tr style=\"text-align: right;\">\n",
       "      <th></th>\n",
       "      <th>Date</th>\n",
       "      <th>Type</th>\n",
       "      <th>Country</th>\n",
       "      <th>Area</th>\n",
       "      <th>Location</th>\n",
       "      <th>Activity</th>\n",
       "      <th>Name</th>\n",
       "      <th>Sex</th>\n",
       "      <th>Age</th>\n",
       "      <th>Injury</th>\n",
       "      <th>Fatal</th>\n",
       "      <th>Time</th>\n",
       "      <th>Species</th>\n",
       "      <th>Investigator or Source</th>\n",
       "    </tr>\n",
       "  </thead>\n",
       "  <tbody>\n",
       "    <tr>\n",
       "      <th>57</th>\n",
       "      <td>2008-12-14</td>\n",
       "      <td>Unprovoked</td>\n",
       "      <td>NEW ZEALAND</td>\n",
       "      <td>North Island</td>\n",
       "      <td>Maraetai</td>\n",
       "      <td>Fishing</td>\n",
       "      <td>Ken Lindberg</td>\n",
       "      <td>M</td>\n",
       "      <td>NaN</td>\n",
       "      <td>Lacerations to left calf and ankle</td>\n",
       "      <td>N</td>\n",
       "      <td>NaN</td>\n",
       "      <td>BRONZE WHALER SHARK?</td>\n",
       "      <td>R.D. Weeks, GSAF</td>\n",
       "    </tr>\n",
       "    <tr>\n",
       "      <th>70</th>\n",
       "      <td>2006-12-11</td>\n",
       "      <td>Unprovoked</td>\n",
       "      <td>NEW ZEALAND</td>\n",
       "      <td>North Island</td>\n",
       "      <td>Raglan, Manu Bay</td>\n",
       "      <td>Surfing</td>\n",
       "      <td>Elliot Paerata-Reid</td>\n",
       "      <td>M</td>\n",
       "      <td>10</td>\n",
       "      <td>Foot bitten</td>\n",
       "      <td>N</td>\n",
       "      <td>11h00</td>\n",
       "      <td>2 TO 3 M SHARK</td>\n",
       "      <td>R.D. Weeks, GSAF</td>\n",
       "    </tr>\n",
       "    <tr>\n",
       "      <th>95</th>\n",
       "      <td>2000-12-01</td>\n",
       "      <td>Unprovoked</td>\n",
       "      <td>NEW ZEALAND</td>\n",
       "      <td>Cook Islands</td>\n",
       "      <td>Arorangi, Rarotonga</td>\n",
       "      <td>Surfing</td>\n",
       "      <td></td>\n",
       "      <td>F</td>\n",
       "      <td>NaN</td>\n",
       "      <td>FATAL</td>\n",
       "      <td>Y</td>\n",
       "      <td>NaN</td>\n",
       "      <td>NaN</td>\n",
       "      <td>C. Tini, R.D. Weeks, GSAF</td>\n",
       "    </tr>\n",
       "    <tr>\n",
       "      <th>196</th>\n",
       "      <td>1932-12-09</td>\n",
       "      <td>Provoked</td>\n",
       "      <td>NEW ZEALAND</td>\n",
       "      <td>North Island</td>\n",
       "      <td>Mahurangi River Mouth</td>\n",
       "      <td>Fishing</td>\n",
       "      <td>Mr. L. E. Brasting</td>\n",
       "      <td>M</td>\n",
       "      <td>NaN</td>\n",
       "      <td>Laceration to hand  PROVOKED INCIDENT</td>\n",
       "      <td>N</td>\n",
       "      <td>NaN</td>\n",
       "      <td>NaN</td>\n",
       "      <td>New Zealand Herald, 12/9/1932</td>\n",
       "    </tr>\n",
       "    <tr>\n",
       "      <th>229</th>\n",
       "      <td>NaT</td>\n",
       "      <td>Unprovoked</td>\n",
       "      <td>NEW ZEALAND</td>\n",
       "      <td>North Island</td>\n",
       "      <td>Wellington Harbor</td>\n",
       "      <td>Swimming</td>\n",
       "      <td>Johnny Balmer, a soldier from the 65th Regiment</td>\n",
       "      <td>M</td>\n",
       "      <td>NaN</td>\n",
       "      <td>FATAL, posterior thigh bared to femur, kneecap...</td>\n",
       "      <td>Y</td>\n",
       "      <td>NaN</td>\n",
       "      <td>SAID TO INVOLVE A 6 M TO 7.3 M [20' TO 24'] SHARK</td>\n",
       "      <td>Ref: H. Blake, Sixty Years in New Zealand, pp....</td>\n",
       "    </tr>\n",
       "  </tbody>\n",
       "</table>\n",
       "</div>"
      ],
      "text/plain": [
       "          Date        Type      Country          Area               Location  \\\n",
       "57  2008-12-14  Unprovoked  NEW ZEALAND  North Island               Maraetai   \n",
       "70  2006-12-11  Unprovoked  NEW ZEALAND  North Island       Raglan, Manu Bay   \n",
       "95  2000-12-01  Unprovoked  NEW ZEALAND  Cook Islands    Arorangi, Rarotonga   \n",
       "196 1932-12-09    Provoked  NEW ZEALAND  North Island  Mahurangi River Mouth   \n",
       "229        NaT  Unprovoked  NEW ZEALAND  North Island      Wellington Harbor   \n",
       "\n",
       "     Activity                                             Name Sex  Age  \\\n",
       "57    Fishing                                     Ken Lindberg   M  NaN   \n",
       "70    Surfing                              Elliot Paerata-Reid   M   10   \n",
       "95    Surfing                                                    F  NaN   \n",
       "196   Fishing                               Mr. L. E. Brasting   M  NaN   \n",
       "229  Swimming  Johnny Balmer, a soldier from the 65th Regiment   M  NaN   \n",
       "\n",
       "                                                Injury Fatal   Time  \\\n",
       "57                  Lacerations to left calf and ankle     N    NaN   \n",
       "70                                         Foot bitten     N  11h00   \n",
       "95                                               FATAL     Y    NaN   \n",
       "196              Laceration to hand  PROVOKED INCIDENT     N    NaN   \n",
       "229  FATAL, posterior thigh bared to femur, kneecap...     Y    NaN   \n",
       "\n",
       "                                               Species  \\\n",
       "57                                BRONZE WHALER SHARK?   \n",
       "70                                      2 TO 3 M SHARK   \n",
       "95                                                 NaN   \n",
       "196                                                NaN   \n",
       "229  SAID TO INVOLVE A 6 M TO 7.3 M [20' TO 24'] SHARK   \n",
       "\n",
       "                                Investigator or Source  \n",
       "57                                    R.D. Weeks, GSAF  \n",
       "70                                    R.D. Weeks, GSAF  \n",
       "95                           C. Tini, R.D. Weeks, GSAF  \n",
       "196                      New Zealand Herald, 12/9/1932  \n",
       "229  Ref: H. Blake, Sixty Years in New Zealand, pp....  "
      ]
     },
     "execution_count": 76,
     "metadata": {},
     "output_type": "execute_result"
    }
   ],
   "source": [
    "df[filtro_nz].head(5)"
   ]
  },
  {
   "cell_type": "code",
   "execution_count": 77,
   "metadata": {},
   "outputs": [
    {
     "data": {
      "text/plain": [
       "(143, 14)"
      ]
     },
     "execution_count": 77,
     "metadata": {},
     "output_type": "execute_result"
    }
   ],
   "source": [
    "df[filtro_nz].shape"
   ]
  },
  {
   "cell_type": "code",
   "execution_count": 78,
   "metadata": {},
   "outputs": [
    {
     "data": {
      "text/plain": [
       "N          105\n",
       "Y           25\n",
       "UNKNOWN     13\n",
       "Name: Fatal, dtype: int64"
      ]
     },
     "execution_count": 78,
     "metadata": {},
     "output_type": "execute_result"
    }
   ],
   "source": [
    "df.loc[filtro_nz, \"Fatal\"].value_counts()"
   ]
  },
  {
   "cell_type": "code",
   "execution_count": 79,
   "metadata": {},
   "outputs": [
    {
     "data": {
      "text/plain": [
       "North Island                                    75\n",
       "South Island                                    44\n",
       "Cook Islands                                     4\n",
       "Southland                                        4\n",
       "Chatham Islands                                  3\n",
       "South Island, near Karitane north of Dunedin     1\n",
       "South Island?                                    1\n",
       "Off the Coromandel Peninsula, North Island       1\n",
       "Northlands                                       1\n",
       "Cook Strait                                      1\n",
       "Chatham Islands, east of New  Zealand            1\n",
       "Foveaux Strait                                   1\n",
       "Mercury Islands                                  1\n",
       "Antarctic Ocean                                  1\n",
       "Cook islans                                      1\n",
       "Name: Area, dtype: int64"
      ]
     },
     "execution_count": 79,
     "metadata": {},
     "output_type": "execute_result"
    }
   ],
   "source": [
    "df.loc[filtro_nz, \"Area\"].value_counts()"
   ]
  },
  {
   "cell_type": "code",
   "execution_count": 80,
   "metadata": {},
   "outputs": [
    {
     "data": {
      "text/plain": [
       "Unprovoked    92\n",
       "Provoked      21\n",
       "Watercraft    17\n",
       "Invalid       13\n",
       "Name: Type, dtype: int64"
      ]
     },
     "execution_count": 80,
     "metadata": {},
     "output_type": "execute_result"
    }
   ],
   "source": [
    "df.loc[filtro_nz, \"Type\"].value_counts()"
   ]
  },
  {
   "cell_type": "code",
   "execution_count": 81,
   "metadata": {},
   "outputs": [
    {
     "data": {
      "text/plain": [
       "January      39\n",
       "December     24\n",
       "February     24\n",
       "March        20\n",
       "April        10\n",
       "November      5\n",
       "October       4\n",
       "June          3\n",
       "May           3\n",
       "September     2\n",
       "July          2\n",
       "August        1\n",
       "Name: Date, dtype: int64"
      ]
     },
     "execution_count": 81,
     "metadata": {},
     "output_type": "execute_result"
    }
   ],
   "source": [
    "df.loc[filtro_nz, \"Date\"].dt.month_name().value_counts()"
   ]
  },
  {
   "cell_type": "code",
   "execution_count": 82,
   "metadata": {},
   "outputs": [
    {
     "data": {
      "text/plain": [
       "SHARK INVOLVEMENT NOT CONFIRMED    7\n",
       "WHITE SHARK                        5\n",
       "SEVENGILL SHARK                    4\n",
       "1.8 M [6'] SHARK                   3\n",
       "BRONZE WHALER SHARK                2\n",
       "                                  ..\n",
       "4' TO 5' SHARK                     1\n",
       "SAND SHARK                         1\n",
       "BRONZE WHALER SHARK,4 M [13']      1\n",
       "2 TO 3 M SHARK                     1\n",
       "6' SHARK                           1\n",
       "Name: Species, Length: 72, dtype: int64"
      ]
     },
     "execution_count": 82,
     "metadata": {},
     "output_type": "execute_result"
    }
   ],
   "source": [
    "df.loc[filtro_nz, \"Species\"].value_counts()"
   ]
  },
  {
   "attachments": {},
   "cell_type": "markdown",
   "metadata": {},
   "source": [
    "<h2>Análise Tubarão Branco </h2>"
   ]
  },
  {
   "cell_type": "code",
   "execution_count": 83,
   "metadata": {},
   "outputs": [],
   "source": [
    "filtro_tbranco = df['Species'].str.contains('WHITE', na=False)"
   ]
  },
  {
   "cell_type": "code",
   "execution_count": 84,
   "metadata": {},
   "outputs": [
    {
     "data": {
      "text/plain": [
       "20                    JUVENILE WHITE SHARK,  2.7 TO 3.2 M\n",
       "34                                  WHITE SHARK, 4 TO 5 M\n",
       "36                                            WHITE SHARK\n",
       "39                                WHITE SHARK, 12' TO 14'\n",
       "48                                       WHITE SHARK, 10'\n",
       "                              ...                        \n",
       "6720                                      4 M WHITE SHARK\n",
       "6737    3.5 M [11.5'], 510-KG [1125-LB] HOOKED & SHOT ...\n",
       "6773              SAID TO INVOLVE A 7 M [23'] WHITE SHARK\n",
       "6783                            WHITE SHARK, 4.2 M [13'9]\n",
       "6808    WHITE SHARK, 12', IDENTITY CONFIRMED BY TOOTH ...\n",
       "Name: Species, Length: 729, dtype: object"
      ]
     },
     "execution_count": 84,
     "metadata": {},
     "output_type": "execute_result"
    }
   ],
   "source": [
    "df.loc[filtro_tbranco, 'Species']"
   ]
  },
  {
   "cell_type": "code",
   "execution_count": 85,
   "metadata": {},
   "outputs": [
    {
     "data": {
      "text/html": [
       "<div>\n",
       "<style scoped>\n",
       "    .dataframe tbody tr th:only-of-type {\n",
       "        vertical-align: middle;\n",
       "    }\n",
       "\n",
       "    .dataframe tbody tr th {\n",
       "        vertical-align: top;\n",
       "    }\n",
       "\n",
       "    .dataframe thead th {\n",
       "        text-align: right;\n",
       "    }\n",
       "</style>\n",
       "<table border=\"1\" class=\"dataframe\">\n",
       "  <thead>\n",
       "    <tr style=\"text-align: right;\">\n",
       "      <th></th>\n",
       "      <th>Date</th>\n",
       "      <th>Type</th>\n",
       "      <th>Country</th>\n",
       "      <th>Area</th>\n",
       "      <th>Location</th>\n",
       "      <th>Activity</th>\n",
       "      <th>Name</th>\n",
       "      <th>Sex</th>\n",
       "      <th>Age</th>\n",
       "      <th>Injury</th>\n",
       "      <th>Fatal</th>\n",
       "      <th>Time</th>\n",
       "      <th>Species</th>\n",
       "      <th>Investigator or Source</th>\n",
       "    </tr>\n",
       "  </thead>\n",
       "  <tbody>\n",
       "    <tr>\n",
       "      <th>20</th>\n",
       "      <td>2018-02-23</td>\n",
       "      <td>Unprovoked</td>\n",
       "      <td>AUSTRALIA</td>\n",
       "      <td>New South Wales</td>\n",
       "      <td>Little Congwong Beach, La Perouse</td>\n",
       "      <td>Swimming</td>\n",
       "      <td>Anna Shurapey</td>\n",
       "      <td>F</td>\n",
       "      <td>55</td>\n",
       "      <td>Laceratons to right leg &amp; foot</td>\n",
       "      <td>N</td>\n",
       "      <td>19h00, Dusk</td>\n",
       "      <td>JUVENILE WHITE SHARK,  2.7 TO 3.2 M</td>\n",
       "      <td>B. Myatt, GSAF</td>\n",
       "    </tr>\n",
       "    <tr>\n",
       "      <th>34</th>\n",
       "      <td>2014-12-29</td>\n",
       "      <td>Unprovoked</td>\n",
       "      <td>AUSTRALIA</td>\n",
       "      <td>Western Australia</td>\n",
       "      <td>Three Stripes near Cheynes Beach</td>\n",
       "      <td>Spearfishing</td>\n",
       "      <td>Jay Muscat</td>\n",
       "      <td>M</td>\n",
       "      <td>17</td>\n",
       "      <td>FATAL</td>\n",
       "      <td>Y</td>\n",
       "      <td>Morning</td>\n",
       "      <td>WHITE SHARK, 4 TO 5 M</td>\n",
       "      <td>The West Australian, 12/29/2014</td>\n",
       "    </tr>\n",
       "    <tr>\n",
       "      <th>36</th>\n",
       "      <td>2014-11-19</td>\n",
       "      <td>Watercraft</td>\n",
       "      <td>AUSTRALIA</td>\n",
       "      <td>Western Australia</td>\n",
       "      <td>Freo</td>\n",
       "      <td>Fishing</td>\n",
       "      <td>Boat: occupants: David Lock &amp; his father</td>\n",
       "      <td>M</td>\n",
       "      <td>NaN</td>\n",
       "      <td>Shark chasing fish bumped boat, no injury to o...</td>\n",
       "      <td>N</td>\n",
       "      <td>NaN</td>\n",
       "      <td>WHITE SHARK</td>\n",
       "      <td>The West Australian, 11/20/2014</td>\n",
       "    </tr>\n",
       "    <tr>\n",
       "      <th>39</th>\n",
       "      <td>2014-09-03</td>\n",
       "      <td>Watercraft</td>\n",
       "      <td>USA</td>\n",
       "      <td>Massachusetts</td>\n",
       "      <td>Manomet Point, Plymouth, Plymouth County</td>\n",
       "      <td>Kayaking</td>\n",
       "      <td>Ida Parker &amp; Kristen Orr</td>\n",
       "      <td>F</td>\n",
       "      <td>20</td>\n",
       "      <td>No injury, shark bit kayak</td>\n",
       "      <td>N</td>\n",
       "      <td>18h00</td>\n",
       "      <td>WHITE SHARK, 12' TO 14'</td>\n",
       "      <td>Boston Globe, 9/4/2014</td>\n",
       "    </tr>\n",
       "    <tr>\n",
       "      <th>48</th>\n",
       "      <td>2011-10-22</td>\n",
       "      <td>Unprovoked</td>\n",
       "      <td>AUSTRALIA</td>\n",
       "      <td>Western Australia</td>\n",
       "      <td>Rottnest Island</td>\n",
       "      <td>Diving</td>\n",
       "      <td>George Wainwright</td>\n",
       "      <td>M</td>\n",
       "      <td>32</td>\n",
       "      <td>FATAL</td>\n",
       "      <td>Y</td>\n",
       "      <td>13h25</td>\n",
       "      <td>WHITE SHARK, 10'</td>\n",
       "      <td>Sky News, 10/22/2011</td>\n",
       "    </tr>\n",
       "  </tbody>\n",
       "</table>\n",
       "</div>"
      ],
      "text/plain": [
       "         Date        Type    Country               Area  \\\n",
       "20 2018-02-23  Unprovoked  AUSTRALIA    New South Wales   \n",
       "34 2014-12-29  Unprovoked  AUSTRALIA  Western Australia   \n",
       "36 2014-11-19  Watercraft  AUSTRALIA  Western Australia   \n",
       "39 2014-09-03  Watercraft        USA      Massachusetts   \n",
       "48 2011-10-22  Unprovoked  AUSTRALIA  Western Australia   \n",
       "\n",
       "                                    Location      Activity  \\\n",
       "20         Little Congwong Beach, La Perouse      Swimming   \n",
       "34          Three Stripes near Cheynes Beach  Spearfishing   \n",
       "36                                      Freo       Fishing   \n",
       "39  Manomet Point, Plymouth, Plymouth County      Kayaking   \n",
       "48                           Rottnest Island        Diving   \n",
       "\n",
       "                                        Name Sex  Age  \\\n",
       "20                             Anna Shurapey   F   55   \n",
       "34                                Jay Muscat   M   17   \n",
       "36  Boat: occupants: David Lock & his father   M  NaN   \n",
       "39                  Ida Parker & Kristen Orr   F   20   \n",
       "48                         George Wainwright   M   32   \n",
       "\n",
       "                                               Injury Fatal         Time  \\\n",
       "20                     Laceratons to right leg & foot     N  19h00, Dusk   \n",
       "34                                              FATAL     Y      Morning   \n",
       "36  Shark chasing fish bumped boat, no injury to o...     N          NaN   \n",
       "39                         No injury, shark bit kayak     N        18h00   \n",
       "48                                              FATAL     Y        13h25   \n",
       "\n",
       "                                Species           Investigator or Source  \n",
       "20  JUVENILE WHITE SHARK,  2.7 TO 3.2 M                   B. Myatt, GSAF  \n",
       "34                WHITE SHARK, 4 TO 5 M  The West Australian, 12/29/2014  \n",
       "36                          WHITE SHARK  The West Australian, 11/20/2014  \n",
       "39              WHITE SHARK, 12' TO 14'           Boston Globe, 9/4/2014  \n",
       "48                     WHITE SHARK, 10'             Sky News, 10/22/2011  "
      ]
     },
     "execution_count": 85,
     "metadata": {},
     "output_type": "execute_result"
    }
   ],
   "source": [
    "df[filtro_tbranco].head(5)"
   ]
  },
  {
   "cell_type": "code",
   "execution_count": 86,
   "metadata": {},
   "outputs": [
    {
     "data": {
      "text/plain": [
       "(729, 14)"
      ]
     },
     "execution_count": 86,
     "metadata": {},
     "output_type": "execute_result"
    }
   ],
   "source": [
    "df[filtro_tbranco].shape"
   ]
  },
  {
   "cell_type": "code",
   "execution_count": 87,
   "metadata": {},
   "outputs": [
    {
     "data": {
      "text/plain": [
       "USA                     231\n",
       "AUSTRALIA               179\n",
       "SOUTH AFRICA            171\n",
       "ITALY                    26\n",
       "NEW ZEALAND              21\n",
       "EGYPT                    16\n",
       "CROATIA                  11\n",
       "CHILE                     6\n",
       "GREECE                    5\n",
       "JAPAN                     4\n",
       "BRAZIL                    4\n",
       "CANADA                    3\n",
       "SOUTH KOREA               3\n",
       "FRANCE                    3\n",
       "MEXICO                    3\n",
       "MALTA                     3\n",
       "OKINAWA                   3\n",
       "SPAIN                     2\n",
       "PANAMA                    2\n",
       "BAHAMAS                   2\n",
       "NORTH PACIFIC OCEAN       2\n",
       "EL SALVADOR               2\n",
       "RUSSIA                    1\n",
       "FIJI                      1\n",
       "NEW CALEDONIA             1\n",
       "ATLANTIC OCEAN            1\n",
       "SOUTH ATLANTIC OCEAN      1\n",
       "CARIBBEAN SEA             1\n",
       "SLOVENIA                  1\n",
       "UNITED KINGDOM            1\n",
       "EGYPT / ISRAEL            1\n",
       "ARGENTINA                 1\n",
       "RED SEA                   1\n",
       "REUNION                   1\n",
       "NORTH ATLANTIC OCEAN      1\n",
       "AZORES                    1\n",
       "VIETNAM                   1\n",
       "TURKEY                    1\n",
       "MID ATLANTIC OCEAN        1\n",
       "PHILIPPINES               1\n",
       "PAPUA NEW GUINEA          1\n",
       "FRENCH POLYNESIA          1\n",
       "ANGOLA                    1\n",
       "MONTENEGRO                1\n",
       "SEYCHELLES                1\n",
       "GREENLAND                 1\n",
       "PORTUGAL                  1\n",
       "MOZAMBIQUE                1\n",
       "ST MARTIN                 1\n",
       "Name: Country, dtype: int64"
      ]
     },
     "execution_count": 87,
     "metadata": {},
     "output_type": "execute_result"
    }
   ],
   "source": [
    "df.loc[filtro_tbranco, 'Country'].value_counts()"
   ]
  },
  {
   "cell_type": "code",
   "execution_count": 88,
   "metadata": {},
   "outputs": [
    {
     "data": {
      "text/plain": [
       "September    90\n",
       "July         79\n",
       "January      73\n",
       "August       71\n",
       "October      65\n",
       "December     59\n",
       "November     56\n",
       "June         51\n",
       "February     47\n",
       "April        39\n",
       "March        37\n",
       "May          37\n",
       "Name: Date, dtype: int64"
      ]
     },
     "execution_count": 88,
     "metadata": {},
     "output_type": "execute_result"
    }
   ],
   "source": [
    "df.loc[filtro_tbranco, 'Date'].dt.month_name().value_counts()"
   ]
  },
  {
   "cell_type": "code",
   "execution_count": 89,
   "metadata": {},
   "outputs": [
    {
     "data": {
      "text/plain": [
       "N          548\n",
       "Y          163\n",
       "UNKNOWN     18\n",
       "Name: Fatal, dtype: int64"
      ]
     },
     "execution_count": 89,
     "metadata": {},
     "output_type": "execute_result"
    }
   ],
   "source": [
    "df.loc[filtro_tbranco, 'Fatal'].value_counts()"
   ]
  },
  {
   "cell_type": "code",
   "execution_count": 90,
   "metadata": {},
   "outputs": [
    {
     "data": {
      "text/plain": [
       "Unprovoked      553\n",
       "Watercraft      133\n",
       "Provoked         29\n",
       "Invalid           8\n",
       "Sea Disaster      6\n",
       "Name: Type, dtype: int64"
      ]
     },
     "execution_count": 90,
     "metadata": {},
     "output_type": "execute_result"
    }
   ],
   "source": [
    "df.loc[filtro_tbranco, 'Type'].value_counts()"
   ]
  },
  {
   "attachments": {},
   "cell_type": "markdown",
   "metadata": {},
   "source": [
    "<h2> Análise Tubarão Tigre: </h2>"
   ]
  },
  {
   "cell_type": "code",
   "execution_count": 91,
   "metadata": {},
   "outputs": [],
   "source": [
    "filtro_ttigre = df['Species'].str.contains('TIGER', na=False)"
   ]
  },
  {
   "cell_type": "code",
   "execution_count": 92,
   "metadata": {},
   "outputs": [
    {
     "data": {
      "text/html": [
       "<div>\n",
       "<style scoped>\n",
       "    .dataframe tbody tr th:only-of-type {\n",
       "        vertical-align: middle;\n",
       "    }\n",
       "\n",
       "    .dataframe tbody tr th {\n",
       "        vertical-align: top;\n",
       "    }\n",
       "\n",
       "    .dataframe thead th {\n",
       "        text-align: right;\n",
       "    }\n",
       "</style>\n",
       "<table border=\"1\" class=\"dataframe\">\n",
       "  <thead>\n",
       "    <tr style=\"text-align: right;\">\n",
       "      <th></th>\n",
       "      <th>Date</th>\n",
       "      <th>Type</th>\n",
       "      <th>Country</th>\n",
       "      <th>Area</th>\n",
       "      <th>Location</th>\n",
       "      <th>Activity</th>\n",
       "      <th>Name</th>\n",
       "      <th>Sex</th>\n",
       "      <th>Age</th>\n",
       "      <th>Injury</th>\n",
       "      <th>Fatal</th>\n",
       "      <th>Time</th>\n",
       "      <th>Species</th>\n",
       "      <th>Investigator or Source</th>\n",
       "    </tr>\n",
       "  </thead>\n",
       "  <tbody>\n",
       "    <tr>\n",
       "      <th>18</th>\n",
       "      <td>2018-04-28</td>\n",
       "      <td>Unprovoked</td>\n",
       "      <td>COSTA RICA</td>\n",
       "      <td>Cocos Island</td>\n",
       "      <td>Manuelita</td>\n",
       "      <td>Scuba diving</td>\n",
       "      <td></td>\n",
       "      <td>M</td>\n",
       "      <td>30</td>\n",
       "      <td>No injury, shark bit scuba gear</td>\n",
       "      <td>N</td>\n",
       "      <td>10h40</td>\n",
       "      <td>TIGER SHARK</td>\n",
       "      <td>Costa Rica Star. 4/28/2018</td>\n",
       "    </tr>\n",
       "    <tr>\n",
       "      <th>44</th>\n",
       "      <td>2013-08-14</td>\n",
       "      <td>Unprovoked</td>\n",
       "      <td>USA</td>\n",
       "      <td>Hawaii</td>\n",
       "      <td>Makenat, Maui</td>\n",
       "      <td>Snorkeling</td>\n",
       "      <td>Jana Lutteropp</td>\n",
       "      <td>F</td>\n",
       "      <td>20</td>\n",
       "      <td>FATAL</td>\n",
       "      <td>Y</td>\n",
       "      <td>16h30</td>\n",
       "      <td>TIGER SHARK?</td>\n",
       "      <td>KHON2, 8/15/2013</td>\n",
       "    </tr>\n",
       "    <tr>\n",
       "      <th>62</th>\n",
       "      <td>2008-08-11</td>\n",
       "      <td>Unprovoked</td>\n",
       "      <td>USA</td>\n",
       "      <td>Hawaii</td>\n",
       "      <td>Ala Moana Beach Park, Oah'u</td>\n",
       "      <td>Diving</td>\n",
       "      <td></td>\n",
       "      <td>M</td>\n",
       "      <td>NaN</td>\n",
       "      <td>No injury, shark grabbed his bag of fish</td>\n",
       "      <td>N</td>\n",
       "      <td>14h00</td>\n",
       "      <td>TIGER SHARK, 12'</td>\n",
       "      <td>Honolulu Advertiser, 8/13/2008</td>\n",
       "    </tr>\n",
       "    <tr>\n",
       "      <th>65</th>\n",
       "      <td>2007-12-10</td>\n",
       "      <td>Unprovoked</td>\n",
       "      <td>USA</td>\n",
       "      <td>Hawaii</td>\n",
       "      <td>Waialua Bay, O'ahu</td>\n",
       "      <td>Surfing</td>\n",
       "      <td>Valentino Ramirez</td>\n",
       "      <td>M</td>\n",
       "      <td>52</td>\n",
       "      <td>No injury, shark bit surfboard</td>\n",
       "      <td>N</td>\n",
       "      <td>Just before 11h00</td>\n",
       "      <td>TIGER SHARK</td>\n",
       "      <td>Honolulu Advertiser, 12/12/2007</td>\n",
       "    </tr>\n",
       "    <tr>\n",
       "      <th>78</th>\n",
       "      <td>2005-05-14</td>\n",
       "      <td>Watercraft</td>\n",
       "      <td>USA</td>\n",
       "      <td>Hawaii</td>\n",
       "      <td>North Kihei, Maui</td>\n",
       "      <td>Kayaking</td>\n",
       "      <td>J. Bailey</td>\n",
       "      <td>NaN</td>\n",
       "      <td>NaN</td>\n",
       "      <td>No injury, shark bit kayak</td>\n",
       "      <td>N</td>\n",
       "      <td>11h00</td>\n",
       "      <td>TIGER SHARK, 8' TO 9'</td>\n",
       "      <td>Hawaii Department of Land and Natural Resources</td>\n",
       "    </tr>\n",
       "  </tbody>\n",
       "</table>\n",
       "</div>"
      ],
      "text/plain": [
       "         Date        Type     Country          Area  \\\n",
       "18 2018-04-28  Unprovoked  COSTA RICA  Cocos Island   \n",
       "44 2013-08-14  Unprovoked         USA        Hawaii   \n",
       "62 2008-08-11  Unprovoked         USA        Hawaii   \n",
       "65 2007-12-10  Unprovoked         USA        Hawaii   \n",
       "78 2005-05-14  Watercraft         USA        Hawaii   \n",
       "\n",
       "                       Location      Activity               Name  Sex  Age  \\\n",
       "18                    Manuelita  Scuba diving                       M   30   \n",
       "44                Makenat, Maui    Snorkeling     Jana Lutteropp    F   20   \n",
       "62  Ala Moana Beach Park, Oah'u        Diving                       M  NaN   \n",
       "65           Waialua Bay, O'ahu       Surfing  Valentino Ramirez    M   52   \n",
       "78            North Kihei, Maui      Kayaking          J. Bailey  NaN  NaN   \n",
       "\n",
       "                                      Injury Fatal               Time  \\\n",
       "18           No injury, shark bit scuba gear     N              10h40   \n",
       "44                                     FATAL     Y              16h30   \n",
       "62  No injury, shark grabbed his bag of fish     N              14h00   \n",
       "65            No injury, shark bit surfboard     N  Just before 11h00   \n",
       "78                No injury, shark bit kayak     N              11h00   \n",
       "\n",
       "                  Species                           Investigator or Source  \n",
       "18            TIGER SHARK                       Costa Rica Star. 4/28/2018  \n",
       "44           TIGER SHARK?                                 KHON2, 8/15/2013  \n",
       "62       TIGER SHARK, 12'                   Honolulu Advertiser, 8/13/2008  \n",
       "65            TIGER SHARK                  Honolulu Advertiser, 12/12/2007  \n",
       "78  TIGER SHARK, 8' TO 9'  Hawaii Department of Land and Natural Resources  "
      ]
     },
     "execution_count": 92,
     "metadata": {},
     "output_type": "execute_result"
    }
   ],
   "source": [
    "df[filtro_ttigre].head(5)"
   ]
  },
  {
   "cell_type": "code",
   "execution_count": 93,
   "metadata": {},
   "outputs": [
    {
     "data": {
      "text/plain": [
       "(321, 14)"
      ]
     },
     "execution_count": 93,
     "metadata": {},
     "output_type": "execute_result"
    }
   ],
   "source": [
    "df[filtro_ttigre].shape"
   ]
  },
  {
   "cell_type": "code",
   "execution_count": 94,
   "metadata": {},
   "outputs": [
    {
     "data": {
      "text/plain": [
       "USA                               139\n",
       "AUSTRALIA                          61\n",
       "NEW CALEDONIA                      13\n",
       "BRAZIL                             12\n",
       "SOUTH AFRICA                       12\n",
       "FIJI                               10\n",
       "MEXICO                              8\n",
       "REUNION                             6\n",
       "BAHAMAS                             6\n",
       "PAPUA NEW GUINEA                    6\n",
       "COSTA RICA                          3\n",
       "SOUTH ATLANTIC OCEAN                3\n",
       "EGYPT                               3\n",
       "HONG KONG                           3\n",
       "PALAU                               2\n",
       "SOUTHWEST PACIFIC OCEAN             2\n",
       "REUNION ISLAND                      2\n",
       "UNITED KINGDOM                      2\n",
       "JAMAICA                             2\n",
       "TONGA                               2\n",
       "CARIBBEAN SEA                       1\n",
       "NEW ZEALAND                         1\n",
       "MAYOTTE                             1\n",
       "AMERICAN SAMOA                      1\n",
       "CURACAO                             1\n",
       "BELIZE                              1\n",
       "SEYCHELLES                          1\n",
       "FRENCH POLYNESIA                    1\n",
       "ATLANTIC OCEAN                      1\n",
       "NEW BRITAIN                         1\n",
       "ENGLAND                             1\n",
       "WESTERN SAMOA                       1\n",
       "COLUMBIA                            1\n",
       "CHINA                               1\n",
       "ST MARTIN                           1\n",
       "SAN DOMINGO                         1\n",
       "URUGUAY                             1\n",
       "FEDERATED STATES OF MICRONESIA      1\n",
       "MALDIVES                            1\n",
       "INDIA                               1\n",
       "CUBA                                1\n",
       "INDONESIA                           1\n",
       "SENEGAL                             1\n",
       "BAHREIN                             1\n",
       "Name: Country, dtype: int64"
      ]
     },
     "execution_count": 94,
     "metadata": {},
     "output_type": "execute_result"
    }
   ],
   "source": [
    "df.loc[filtro_ttigre, 'Country'].value_counts()"
   ]
  },
  {
   "cell_type": "code",
   "execution_count": 95,
   "metadata": {},
   "outputs": [
    {
     "data": {
      "text/plain": [
       "December     35\n",
       "January      34\n",
       "November     32\n",
       "April        30\n",
       "October      29\n",
       "July         28\n",
       "March        23\n",
       "September    22\n",
       "June         21\n",
       "August       20\n",
       "May          20\n",
       "February     18\n",
       "Name: Date, dtype: int64"
      ]
     },
     "execution_count": 95,
     "metadata": {},
     "output_type": "execute_result"
    }
   ],
   "source": [
    "df.loc[filtro_ttigre, 'Date'].dt.month_name().value_counts()"
   ]
  },
  {
   "cell_type": "code",
   "execution_count": 96,
   "metadata": {},
   "outputs": [
    {
     "data": {
      "text/plain": [
       "N          235\n",
       "Y           82\n",
       "UNKNOWN      4\n",
       "Name: Fatal, dtype: int64"
      ]
     },
     "execution_count": 96,
     "metadata": {},
     "output_type": "execute_result"
    }
   ],
   "source": [
    "df.loc[filtro_ttigre, 'Fatal'].value_counts()"
   ]
  },
  {
   "cell_type": "code",
   "execution_count": 97,
   "metadata": {},
   "outputs": [
    {
     "data": {
      "text/plain": [
       "Unprovoked      267\n",
       "Provoked         25\n",
       "Sea Disaster     12\n",
       "Watercraft       11\n",
       "Invalid           5\n",
       "Name: Type, dtype: int64"
      ]
     },
     "execution_count": 97,
     "metadata": {},
     "output_type": "execute_result"
    }
   ],
   "source": [
    "df.loc[filtro_ttigre, 'Type'].value_counts()"
   ]
  },
  {
   "attachments": {},
   "cell_type": "markdown",
   "metadata": {},
   "source": [
    "<h2>Análise Tubarão Touro: </h2>"
   ]
  },
  {
   "cell_type": "code",
   "execution_count": 98,
   "metadata": {},
   "outputs": [],
   "source": [
    "filtro_ttouro = df['Species'].str.contains('BULL', na=False)"
   ]
  },
  {
   "cell_type": "code",
   "execution_count": 99,
   "metadata": {},
   "outputs": [
    {
     "data": {
      "text/html": [
       "<div>\n",
       "<style scoped>\n",
       "    .dataframe tbody tr th:only-of-type {\n",
       "        vertical-align: middle;\n",
       "    }\n",
       "\n",
       "    .dataframe tbody tr th {\n",
       "        vertical-align: top;\n",
       "    }\n",
       "\n",
       "    .dataframe thead th {\n",
       "        text-align: right;\n",
       "    }\n",
       "</style>\n",
       "<table border=\"1\" class=\"dataframe\">\n",
       "  <thead>\n",
       "    <tr style=\"text-align: right;\">\n",
       "      <th></th>\n",
       "      <th>Date</th>\n",
       "      <th>Type</th>\n",
       "      <th>Country</th>\n",
       "      <th>Area</th>\n",
       "      <th>Location</th>\n",
       "      <th>Activity</th>\n",
       "      <th>Name</th>\n",
       "      <th>Sex</th>\n",
       "      <th>Age</th>\n",
       "      <th>Injury</th>\n",
       "      <th>Fatal</th>\n",
       "      <th>Time</th>\n",
       "      <th>Species</th>\n",
       "      <th>Investigator or Source</th>\n",
       "    </tr>\n",
       "  </thead>\n",
       "  <tbody>\n",
       "    <tr>\n",
       "      <th>8</th>\n",
       "      <td>2021-01-13</td>\n",
       "      <td>Unprovoked</td>\n",
       "      <td>AUSTRALIA</td>\n",
       "      <td>Western Australia</td>\n",
       "      <td>Blackwall Reach</td>\n",
       "      <td>Swimming</td>\n",
       "      <td>Cameron Wrathall</td>\n",
       "      <td>M</td>\n",
       "      <td>54</td>\n",
       "      <td>Severe injury to leg and broken him</td>\n",
       "      <td>N</td>\n",
       "      <td>07h58</td>\n",
       "      <td>BULL SHARK, 6.5 TO 10 '</td>\n",
       "      <td>B. Myatt, GSAF &amp; K. McMurray, TrackingSharks.com</td>\n",
       "    </tr>\n",
       "    <tr>\n",
       "      <th>24</th>\n",
       "      <td>2016-08-27</td>\n",
       "      <td>Unprovoked</td>\n",
       "      <td>REUNION</td>\n",
       "      <td>NaN</td>\n",
       "      <td>Boucan Canot</td>\n",
       "      <td>Surfing</td>\n",
       "      <td>Laurent Chardard</td>\n",
       "      <td>M</td>\n",
       "      <td>20</td>\n",
       "      <td>Right arm severed, ankle severely bitten</td>\n",
       "      <td>N</td>\n",
       "      <td>17h00</td>\n",
       "      <td>BULL SHARK, 3.5 M</td>\n",
       "      <td>LaDepeche, 8/29/2016</td>\n",
       "    </tr>\n",
       "    <tr>\n",
       "      <th>31</th>\n",
       "      <td>2015-06-27</td>\n",
       "      <td>Unprovoked</td>\n",
       "      <td>USA</td>\n",
       "      <td>North Carolina</td>\n",
       "      <td>Rodanthe, Dare County</td>\n",
       "      <td>Swimming</td>\n",
       "      <td>John Cole</td>\n",
       "      <td>M</td>\n",
       "      <td>18</td>\n",
       "      <td>Injuries to right calf, buttock and both hands</td>\n",
       "      <td>N</td>\n",
       "      <td>16h00</td>\n",
       "      <td>BULL SHARK</td>\n",
       "      <td>C. Creswell, WRAL, 6/27/2015</td>\n",
       "    </tr>\n",
       "    <tr>\n",
       "      <th>85</th>\n",
       "      <td>2003-01-03</td>\n",
       "      <td>Unprovoked</td>\n",
       "      <td>COSTA RICA</td>\n",
       "      <td>North Pacific coast</td>\n",
       "      <td>Playa Tamarindo</td>\n",
       "      <td>Surfing</td>\n",
       "      <td>Ross Menking</td>\n",
       "      <td>M</td>\n",
       "      <td>NaN</td>\n",
       "      <td>Lower right leg lacerated</td>\n",
       "      <td>N</td>\n",
       "      <td>NaN</td>\n",
       "      <td>BULL SHARK, 7'</td>\n",
       "      <td>A.M. Costa Rica</td>\n",
       "    </tr>\n",
       "    <tr>\n",
       "      <th>99</th>\n",
       "      <td>2000-06-09</td>\n",
       "      <td>Unprovoked</td>\n",
       "      <td>USA</td>\n",
       "      <td>Alabama</td>\n",
       "      <td>Gulf Shores, Baldwin County</td>\n",
       "      <td>Swimming</td>\n",
       "      <td>Chuck Anderson</td>\n",
       "      <td>M</td>\n",
       "      <td>44</td>\n",
       "      <td>Right forearm severed surgically amputated abo...</td>\n",
       "      <td>N</td>\n",
       "      <td>06h45</td>\n",
       "      <td>BULL SHARK</td>\n",
       "      <td>Orlando Sentinel, 6/10/2000, p.A20 &amp; 6/11/2000...</td>\n",
       "    </tr>\n",
       "  </tbody>\n",
       "</table>\n",
       "</div>"
      ],
      "text/plain": [
       "         Date        Type     Country                 Area  \\\n",
       "8  2021-01-13  Unprovoked   AUSTRALIA    Western Australia   \n",
       "24 2016-08-27  Unprovoked     REUNION                  NaN   \n",
       "31 2015-06-27  Unprovoked         USA       North Carolina   \n",
       "85 2003-01-03  Unprovoked  COSTA RICA  North Pacific coast   \n",
       "99 2000-06-09  Unprovoked         USA              Alabama   \n",
       "\n",
       "                       Location  Activity              Name Sex  Age  \\\n",
       "8               Blackwall Reach  Swimming  Cameron Wrathall   M   54   \n",
       "24                 Boucan Canot   Surfing  Laurent Chardard   M   20   \n",
       "31        Rodanthe, Dare County  Swimming         John Cole   M   18   \n",
       "85              Playa Tamarindo   Surfing      Ross Menking   M  NaN   \n",
       "99  Gulf Shores, Baldwin County  Swimming    Chuck Anderson   M   44   \n",
       "\n",
       "                                               Injury Fatal   Time  \\\n",
       "8                 Severe injury to leg and broken him     N  07h58   \n",
       "24           Right arm severed, ankle severely bitten     N  17h00   \n",
       "31     Injuries to right calf, buttock and both hands     N  16h00   \n",
       "85                          Lower right leg lacerated     N    NaN   \n",
       "99  Right forearm severed surgically amputated abo...     N  06h45   \n",
       "\n",
       "                    Species                             Investigator or Source  \n",
       "8   BULL SHARK, 6.5 TO 10 '   B. Myatt, GSAF & K. McMurray, TrackingSharks.com  \n",
       "24        BULL SHARK, 3.5 M                               LaDepeche, 8/29/2016  \n",
       "31               BULL SHARK                       C. Creswell, WRAL, 6/27/2015  \n",
       "85           BULL SHARK, 7'                                    A.M. Costa Rica  \n",
       "99               BULL SHARK  Orlando Sentinel, 6/10/2000, p.A20 & 6/11/2000...  "
      ]
     },
     "execution_count": 99,
     "metadata": {},
     "output_type": "execute_result"
    }
   ],
   "source": [
    "df[filtro_ttouro].head(5)"
   ]
  },
  {
   "cell_type": "code",
   "execution_count": 100,
   "metadata": {},
   "outputs": [
    {
     "data": {
      "text/plain": [
       "USA                     84\n",
       "AUSTRALIA               42\n",
       "REUNION                 17\n",
       "BAHAMAS                 16\n",
       "BRAZIL                   9\n",
       "IRAN                     9\n",
       "NEW CALEDONIA            7\n",
       "IRAQ                     5\n",
       "THAILAND                 3\n",
       "CUBA                     3\n",
       "SOUTH AFRICA             3\n",
       "COSTA RICA               3\n",
       "NICARAGUA                3\n",
       "INDONESIA                3\n",
       "VENEZUELA                2\n",
       "MEXICO                   2\n",
       "MAURITIUS                1\n",
       "TONGA                    1\n",
       "SEYCHELLES               1\n",
       "NETHERLANDS ANTILLES     1\n",
       "SOUTH ATLANTIC OCEAN     1\n",
       "Name: Country, dtype: int64"
      ]
     },
     "execution_count": 100,
     "metadata": {},
     "output_type": "execute_result"
    }
   ],
   "source": [
    "df.loc[filtro_ttouro, 'Country'].value_counts()"
   ]
  },
  {
   "cell_type": "code",
   "execution_count": 101,
   "metadata": {},
   "outputs": [
    {
     "data": {
      "text/plain": [
       "September    90\n",
       "July         79\n",
       "January      73\n",
       "August       71\n",
       "October      65\n",
       "December     59\n",
       "November     56\n",
       "June         51\n",
       "February     47\n",
       "April        39\n",
       "March        37\n",
       "May          37\n",
       "Name: Date, dtype: int64"
      ]
     },
     "execution_count": 101,
     "metadata": {},
     "output_type": "execute_result"
    }
   ],
   "source": [
    "df.loc[filtro_tbranco, 'Date'].dt.month_name().value_counts()"
   ]
  },
  {
   "cell_type": "code",
   "execution_count": 102,
   "metadata": {},
   "outputs": [
    {
     "data": {
      "text/plain": [
       "N          171\n",
       "Y           43\n",
       "UNKNOWN      2\n",
       "Name: Fatal, dtype: int64"
      ]
     },
     "execution_count": 102,
     "metadata": {},
     "output_type": "execute_result"
    }
   ],
   "source": [
    "df.loc[filtro_ttouro, 'Fatal'].value_counts()"
   ]
  },
  {
   "cell_type": "code",
   "execution_count": 103,
   "metadata": {},
   "outputs": [
    {
     "data": {
      "text/plain": [
       "Unprovoked      199\n",
       "Provoked         10\n",
       "Watercraft        3\n",
       "Sea Disaster      2\n",
       "Invalid           1\n",
       "Name: Type, dtype: int64"
      ]
     },
     "execution_count": 103,
     "metadata": {},
     "output_type": "execute_result"
    }
   ],
   "source": [
    "df.loc[filtro_ttouro, 'Type'].value_counts()"
   ]
  },
  {
   "attachments": {},
   "cell_type": "markdown",
   "metadata": {},
   "source": [
    "<h2> Análise Tubarão Mako: </h2>"
   ]
  },
  {
   "cell_type": "code",
   "execution_count": 104,
   "metadata": {},
   "outputs": [],
   "source": [
    "filtro_tmako = df['Species'].str.contains('MAKO', na=False)"
   ]
  },
  {
   "cell_type": "code",
   "execution_count": 105,
   "metadata": {},
   "outputs": [
    {
     "data": {
      "text/html": [
       "<div>\n",
       "<style scoped>\n",
       "    .dataframe tbody tr th:only-of-type {\n",
       "        vertical-align: middle;\n",
       "    }\n",
       "\n",
       "    .dataframe tbody tr th {\n",
       "        vertical-align: top;\n",
       "    }\n",
       "\n",
       "    .dataframe thead th {\n",
       "        text-align: right;\n",
       "    }\n",
       "</style>\n",
       "<table border=\"1\" class=\"dataframe\">\n",
       "  <thead>\n",
       "    <tr style=\"text-align: right;\">\n",
       "      <th></th>\n",
       "      <th>Date</th>\n",
       "      <th>Type</th>\n",
       "      <th>Country</th>\n",
       "      <th>Area</th>\n",
       "      <th>Location</th>\n",
       "      <th>Activity</th>\n",
       "      <th>Name</th>\n",
       "      <th>Sex</th>\n",
       "      <th>Age</th>\n",
       "      <th>Injury</th>\n",
       "      <th>Fatal</th>\n",
       "      <th>Time</th>\n",
       "      <th>Species</th>\n",
       "      <th>Investigator or Source</th>\n",
       "    </tr>\n",
       "  </thead>\n",
       "  <tbody>\n",
       "    <tr>\n",
       "      <th>27</th>\n",
       "      <td>2016-06-04</td>\n",
       "      <td>Unprovoked</td>\n",
       "      <td>EGYPT</td>\n",
       "      <td>Suez</td>\n",
       "      <td>Ain Sokhna</td>\n",
       "      <td>Swimming</td>\n",
       "      <td>Omar Abdel Qader</td>\n",
       "      <td>M</td>\n",
       "      <td>23</td>\n",
       "      <td>Leg severely bitten, surgically amputated</td>\n",
       "      <td>N</td>\n",
       "      <td>Morning</td>\n",
       "      <td>MAKO SHARK</td>\n",
       "      <td>Ahram Online, 6/4/2016</td>\n",
       "    </tr>\n",
       "    <tr>\n",
       "      <th>30</th>\n",
       "      <td>2015-07-23</td>\n",
       "      <td>Provoked</td>\n",
       "      <td>USA</td>\n",
       "      <td>California</td>\n",
       "      <td>La Jolla, San Diego County</td>\n",
       "      <td>Kayak Fishing</td>\n",
       "      <td>Austin Lorber</td>\n",
       "      <td>M</td>\n",
       "      <td>31</td>\n",
       "      <td>No injury to occupant. Kayak bitten by gaffed ...</td>\n",
       "      <td>N</td>\n",
       "      <td>NaN</td>\n",
       "      <td>MAKO SHARK, 100-LB</td>\n",
       "      <td>NBC San Diego, 7/27/2015</td>\n",
       "    </tr>\n",
       "    <tr>\n",
       "      <th>166</th>\n",
       "      <td>1957-09-02</td>\n",
       "      <td>Unprovoked</td>\n",
       "      <td>MARSHALL ISLANDS</td>\n",
       "      <td>Eniwetok Atoll</td>\n",
       "      <td>Parry Island</td>\n",
       "      <td>NaN</td>\n",
       "      <td>Walter L. Huges</td>\n",
       "      <td>M</td>\n",
       "      <td>NaN</td>\n",
       "      <td>Survived</td>\n",
       "      <td>N</td>\n",
       "      <td>NaN</td>\n",
       "      <td>IDENTIFIED AS CARCHARINID SHARK (BASED ON ITS ...</td>\n",
       "      <td>V.M. Coppleson (1962), p.248</td>\n",
       "    </tr>\n",
       "    <tr>\n",
       "      <th>536</th>\n",
       "      <td>2008-01-27</td>\n",
       "      <td>Provoked</td>\n",
       "      <td>AUSTRALIA</td>\n",
       "      <td>Queensland</td>\n",
       "      <td>200 km east of Coolangatta</td>\n",
       "      <td>Accidentally stood on hooked shark's tail befo...</td>\n",
       "      <td>Jarryd Tinson</td>\n",
       "      <td>M</td>\n",
       "      <td>20</td>\n",
       "      <td>Laceration to left knee PROVOKED INCIDENT</td>\n",
       "      <td>N</td>\n",
       "      <td>07h30</td>\n",
       "      <td>MAKO SHARK, 90KG</td>\n",
       "      <td>News.com.au</td>\n",
       "    </tr>\n",
       "    <tr>\n",
       "      <th>610</th>\n",
       "      <td>1969-03-25</td>\n",
       "      <td>Provoked</td>\n",
       "      <td>AUSTRALIA</td>\n",
       "      <td>New South Wales</td>\n",
       "      <td>Newcastle</td>\n",
       "      <td>NaN</td>\n",
       "      <td>William Hill</td>\n",
       "      <td>M</td>\n",
       "      <td>65</td>\n",
       "      <td>Foot lacerated. Recorded as PROVOKED INCIDENT</td>\n",
       "      <td>N</td>\n",
       "      <td>NaN</td>\n",
       "      <td>MAKO SHARK</td>\n",
       "      <td>H.D.Baldridge (1994) SAF Case #1612</td>\n",
       "    </tr>\n",
       "  </tbody>\n",
       "</table>\n",
       "</div>"
      ],
      "text/plain": [
       "          Date        Type           Country             Area  \\\n",
       "27  2016-06-04  Unprovoked             EGYPT             Suez   \n",
       "30  2015-07-23    Provoked               USA       California   \n",
       "166 1957-09-02  Unprovoked  MARSHALL ISLANDS   Eniwetok Atoll   \n",
       "536 2008-01-27    Provoked         AUSTRALIA       Queensland   \n",
       "610 1969-03-25    Provoked         AUSTRALIA  New South Wales   \n",
       "\n",
       "                       Location  \\\n",
       "27                   Ain Sokhna   \n",
       "30   La Jolla, San Diego County   \n",
       "166                Parry Island   \n",
       "536  200 km east of Coolangatta   \n",
       "610                   Newcastle   \n",
       "\n",
       "                                              Activity              Name Sex  \\\n",
       "27                                            Swimming  Omar Abdel Qader   M   \n",
       "30                                       Kayak Fishing     Austin Lorber   M   \n",
       "166                                                NaN   Walter L. Huges   M   \n",
       "536  Accidentally stood on hooked shark's tail befo...     Jarryd Tinson   M   \n",
       "610                                                NaN      William Hill   M   \n",
       "\n",
       "     Age                                             Injury Fatal     Time  \\\n",
       "27    23          Leg severely bitten, surgically amputated     N  Morning   \n",
       "30    31  No injury to occupant. Kayak bitten by gaffed ...     N      NaN   \n",
       "166  NaN                                           Survived     N      NaN   \n",
       "536   20          Laceration to left knee PROVOKED INCIDENT     N    07h30   \n",
       "610   65      Foot lacerated. Recorded as PROVOKED INCIDENT     N      NaN   \n",
       "\n",
       "                                               Species  \\\n",
       "27                                          MAKO SHARK   \n",
       "30                                  MAKO SHARK, 100-LB   \n",
       "166  IDENTIFIED AS CARCHARINID SHARK (BASED ON ITS ...   \n",
       "536                                   MAKO SHARK, 90KG   \n",
       "610                                         MAKO SHARK   \n",
       "\n",
       "                  Investigator or Source  \n",
       "27                Ahram Online, 6/4/2016  \n",
       "30              NBC San Diego, 7/27/2015  \n",
       "166         V.M. Coppleson (1962), p.248  \n",
       "536                          News.com.au  \n",
       "610  H.D.Baldridge (1994) SAF Case #1612  "
      ]
     },
     "execution_count": 105,
     "metadata": {},
     "output_type": "execute_result"
    }
   ],
   "source": [
    "df[filtro_tmako].head(5)"
   ]
  },
  {
   "cell_type": "code",
   "execution_count": 106,
   "metadata": {},
   "outputs": [
    {
     "data": {
      "text/plain": [
       "USA                     18\n",
       "AUSTRALIA                9\n",
       "NEW ZEALAND              8\n",
       "SOUTH AFRICA             7\n",
       "EGYPT                    5\n",
       "MARSHALL ISLANDS         1\n",
       "ISRAEL                   1\n",
       "UNITED ARAB EMIRATES     1\n",
       "REUNION                  1\n",
       "TAIWAN                   1\n",
       "ENGLAND                  1\n",
       "VENEZUELA                1\n",
       "BAHAMAS                  1\n",
       "FRANCE                   1\n",
       "JAPAN                    1\n",
       "Name: Country, dtype: int64"
      ]
     },
     "execution_count": 106,
     "metadata": {},
     "output_type": "execute_result"
    }
   ],
   "source": [
    "df.loc[filtro_tmako, 'Country'].value_counts()"
   ]
  },
  {
   "cell_type": "code",
   "execution_count": 107,
   "metadata": {},
   "outputs": [
    {
     "data": {
      "text/plain": [
       "July         8\n",
       "March        7\n",
       "January      6\n",
       "December     6\n",
       "February     6\n",
       "June         5\n",
       "May          5\n",
       "September    4\n",
       "April        4\n",
       "October      2\n",
       "November     2\n",
       "August       2\n",
       "Name: Date, dtype: int64"
      ]
     },
     "execution_count": 107,
     "metadata": {},
     "output_type": "execute_result"
    }
   ],
   "source": [
    "df.loc[filtro_tmako, 'Date'].dt.month_name().value_counts()"
   ]
  },
  {
   "cell_type": "code",
   "execution_count": 108,
   "metadata": {},
   "outputs": [
    {
     "data": {
      "text/plain": [
       "N    55\n",
       "Y     3\n",
       "Name: Fatal, dtype: int64"
      ]
     },
     "execution_count": 108,
     "metadata": {},
     "output_type": "execute_result"
    }
   ],
   "source": [
    "df.loc[filtro_tmako, 'Fatal'].value_counts()"
   ]
  },
  {
   "cell_type": "code",
   "execution_count": 109,
   "metadata": {},
   "outputs": [
    {
     "data": {
      "text/plain": [
       "Unprovoked    27\n",
       "Provoked      15\n",
       "Watercraft    15\n",
       "Invalid        1\n",
       "Name: Type, dtype: int64"
      ]
     },
     "execution_count": 109,
     "metadata": {},
     "output_type": "execute_result"
    }
   ],
   "source": [
    "df.loc[filtro_tmako, 'Type'].value_counts()"
   ]
  },
  {
   "attachments": {},
   "cell_type": "markdown",
   "metadata": {},
   "source": [
    "<p>5 espécies que mais atacam: Tubarão branco, tubarão trige, tubarão touro </p>"
   ]
  },
  {
   "cell_type": "code",
   "execution_count": 110,
   "metadata": {},
   "outputs": [
    {
     "data": {
      "text/plain": [
       "SHARK INVOLVEMENT NOT CONFIRMED                                                                     410\n",
       "WHITE SHARK                                                                                         192\n",
       "TIGER SHARK                                                                                          88\n",
       "BULL SHARK                                                                                           67\n",
       "6' SHARK                                                                                             43\n",
       "                                                                                                   ... \n",
       "SHOVELNOSE SHARK WHICH IS A RAY, NOT A SHARK)                                                         1\n",
       "WHITE SHARK, 2-TO 3M                                                                                  1\n",
       "THOUGHT TO INVOLVE A 4' SANDTIGER SHARK                                                               1\n",
       "WHITE SHARK, 1600-LB FEMALE                                                                           1\n",
       "WHITE SHARK, 12', IDENTITY CONFIRMED BY TOOTH FRAGMENT, WITNESS AND PHOTOGRAPH OF CAPTURED SHARK      1\n",
       "Name: Species, Length: 1519, dtype: int64"
      ]
     },
     "execution_count": 110,
     "metadata": {},
     "output_type": "execute_result"
    }
   ],
   "source": [
    "df['Species'].value_counts()"
   ]
  },
  {
   "attachments": {},
   "cell_type": "markdown",
   "metadata": {},
   "source": [
    "<p>Número de ataques totais: 6840</p>\n",
    "<p>Ataques provocados: 5010     Ataques não-provocados: 628</p>\n",
    "<p>Ataques Fatais: 1447   Ataques Não-fatais: 4756  </p>\n",
    "<p>Vítimas homens: 5516           Vítimas mulheres: 753</p>\n",
    "<p>Meses que mais ocorreram ataques: Janeiro(853), Julho(741), Agosto(650) </p>\n",
    "<p>Estações que mais ocorreram ataques: Domingo(1174), Sábado(1162), restante varia de 800 </p>\n",
    "<p>Atividade mais presente:</p>\n",
    "<p>Idade mínima das vítimas: 2 meses             Idade máxima das vítimas: 87 anos           Média das idades das vítimas: 24 anos</p>\n",
    "<p>4 países que mais sofrem ataques e Brasil: USA(2494), Australia(1460), south africa(594), nova zelandia(143)  </p>\n",
    "<p>3 espécies que mais atacam: Branco, tigre, touro  </p>"
   ]
  },
  {
   "attachments": {},
   "cell_type": "markdown",
   "metadata": {},
   "source": [
    "<h1> Aprendizagem Supervisionada </h1>"
   ]
  },
  {
   "cell_type": "code",
   "execution_count": 111,
   "metadata": {},
   "outputs": [],
   "source": [
    "df.dropna(inplace=True)"
   ]
  },
  {
   "cell_type": "code",
   "execution_count": 115,
   "metadata": {},
   "outputs": [
    {
     "data": {
      "text/plain": [
       "<bound method TransformerMixin.fit_transform of OrdinalEncoder(cols=['Fatal', 'Type'])>"
      ]
     },
     "execution_count": 115,
     "metadata": {},
     "output_type": "execute_result"
    }
   ],
   "source": [
    "encoder = ce.OrdinalEncoder(cols=['Fatal', 'Type'])\n",
    "encoder.fit_transform"
   ]
  },
  {
   "cell_type": "code",
   "execution_count": 136,
   "metadata": {},
   "outputs": [
    {
     "name": "stderr",
     "output_type": "stream",
     "text": [
      "C:\\Users\\isabe\\AppData\\Local\\Temp\\ipykernel_15624\\2548335135.py:1: UserWarning: Pandas doesn't allow columns to be created via a new attribute name - see https://pandas.pydata.org/pandas-docs/stable/indexing.html#attribute-access\n",
      "  df.target = df[\"Fatal\"]\n"
     ]
    }
   ],
   "source": [
    "df.target = df[\"Fatal\"]\n",
    "df.label\n"
   ]
  },
  {
   "cell_type": "code",
   "execution_count": 138,
   "metadata": {},
   "outputs": [
    {
     "ename": "ValueError",
     "evalue": "No variables found for grid columns.",
     "output_type": "error",
     "traceback": [
      "\u001b[1;31m---------------------------------------------------------------------------\u001b[0m",
      "\u001b[1;31mValueError\u001b[0m                                Traceback (most recent call last)",
      "Cell \u001b[1;32mIn [138], line 1\u001b[0m\n\u001b[1;32m----> 1\u001b[0m sns\u001b[39m.\u001b[39;49mpairplot(df, hue\u001b[39m=\u001b[39;49m\u001b[39m\"\u001b[39;49m\u001b[39mType\u001b[39;49m\u001b[39m\"\u001b[39;49m)\n",
      "File \u001b[1;32m~\\AppData\\Local\\Packages\\PythonSoftwareFoundation.Python.3.10_qbz5n2kfra8p0\\LocalCache\\local-packages\\Python310\\site-packages\\seaborn\\axisgrid.py:2114\u001b[0m, in \u001b[0;36mpairplot\u001b[1;34m(data, hue, hue_order, palette, vars, x_vars, y_vars, kind, diag_kind, markers, height, aspect, corner, dropna, plot_kws, diag_kws, grid_kws, size)\u001b[0m\n\u001b[0;32m   2112\u001b[0m \u001b[39m# Set up the PairGrid\u001b[39;00m\n\u001b[0;32m   2113\u001b[0m grid_kws\u001b[39m.\u001b[39msetdefault(\u001b[39m\"\u001b[39m\u001b[39mdiag_sharey\u001b[39m\u001b[39m\"\u001b[39m, diag_kind \u001b[39m==\u001b[39m \u001b[39m\"\u001b[39m\u001b[39mhist\u001b[39m\u001b[39m\"\u001b[39m)\n\u001b[1;32m-> 2114\u001b[0m grid \u001b[39m=\u001b[39m PairGrid(data, \u001b[39mvars\u001b[39m\u001b[39m=\u001b[39m\u001b[39mvars\u001b[39m, x_vars\u001b[39m=\u001b[39mx_vars, y_vars\u001b[39m=\u001b[39my_vars, hue\u001b[39m=\u001b[39mhue,\n\u001b[0;32m   2115\u001b[0m                 hue_order\u001b[39m=\u001b[39mhue_order, palette\u001b[39m=\u001b[39mpalette, corner\u001b[39m=\u001b[39mcorner,\n\u001b[0;32m   2116\u001b[0m                 height\u001b[39m=\u001b[39mheight, aspect\u001b[39m=\u001b[39maspect, dropna\u001b[39m=\u001b[39mdropna, \u001b[39m*\u001b[39m\u001b[39m*\u001b[39mgrid_kws)\n\u001b[0;32m   2118\u001b[0m \u001b[39m# Add the markers here as PairGrid has figured out how many levels of the\u001b[39;00m\n\u001b[0;32m   2119\u001b[0m \u001b[39m# hue variable are needed and we don't want to duplicate that process\u001b[39;00m\n\u001b[0;32m   2120\u001b[0m \u001b[39mif\u001b[39;00m markers \u001b[39mis\u001b[39;00m \u001b[39mnot\u001b[39;00m \u001b[39mNone\u001b[39;00m:\n",
      "File \u001b[1;32m~\\AppData\\Local\\Packages\\PythonSoftwareFoundation.Python.3.10_qbz5n2kfra8p0\\LocalCache\\local-packages\\Python310\\site-packages\\seaborn\\axisgrid.py:1266\u001b[0m, in \u001b[0;36mPairGrid.__init__\u001b[1;34m(self, data, hue, vars, x_vars, y_vars, hue_order, palette, hue_kws, corner, diag_sharey, height, aspect, layout_pad, despine, dropna)\u001b[0m\n\u001b[0;32m   1263\u001b[0m \u001b[39mself\u001b[39m\u001b[39m.\u001b[39msquare_grid \u001b[39m=\u001b[39m \u001b[39mself\u001b[39m\u001b[39m.\u001b[39mx_vars \u001b[39m==\u001b[39m \u001b[39mself\u001b[39m\u001b[39m.\u001b[39my_vars\n\u001b[0;32m   1265\u001b[0m \u001b[39mif\u001b[39;00m \u001b[39mnot\u001b[39;00m x_vars:\n\u001b[1;32m-> 1266\u001b[0m     \u001b[39mraise\u001b[39;00m \u001b[39mValueError\u001b[39;00m(\u001b[39m\"\u001b[39m\u001b[39mNo variables found for grid columns.\u001b[39m\u001b[39m\"\u001b[39m)\n\u001b[0;32m   1267\u001b[0m \u001b[39mif\u001b[39;00m \u001b[39mnot\u001b[39;00m y_vars:\n\u001b[0;32m   1268\u001b[0m     \u001b[39mraise\u001b[39;00m \u001b[39mValueError\u001b[39;00m(\u001b[39m\"\u001b[39m\u001b[39mNo variables found for grid rows.\u001b[39m\u001b[39m\"\u001b[39m)\n",
      "\u001b[1;31mValueError\u001b[0m: No variables found for grid columns."
     ]
    }
   ],
   "source": [
    "sns.pairplot(df, hue=\"Type\")"
   ]
  }
 ],
 "metadata": {
  "kernelspec": {
   "display_name": "Python 3",
   "language": "python",
   "name": "python3"
  },
  "language_info": {
   "codemirror_mode": {
    "name": "ipython",
    "version": 3
   },
   "file_extension": ".py",
   "mimetype": "text/x-python",
   "name": "python",
   "nbconvert_exporter": "python",
   "pygments_lexer": "ipython3",
   "version": "3.10.9"
  },
  "orig_nbformat": 4,
  "vscode": {
   "interpreter": {
    "hash": "32760d48c824fc5b54dfb7d4aee58e4f164c509b01e7e97587d19eb0e206a2a5"
   }
  }
 },
 "nbformat": 4,
 "nbformat_minor": 2
}
